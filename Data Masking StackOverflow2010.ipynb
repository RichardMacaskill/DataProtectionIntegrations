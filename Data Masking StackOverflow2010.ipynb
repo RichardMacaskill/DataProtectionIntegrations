{
    "metadata": {
        "kernelspec": {
            "name": "SQL",
            "display_name": "SQL",
            "language": "sql"
        },
        "language_info": {
            "name": "sql",
            "version": ""
        }
    },
    "nbformat_minor": 2,
    "nbformat": 4,
    "cells": [
        {
            "cell_type": "markdown",
            "source": "# Data Masking Sample \n### Using StackOverflow2010 Database from BrentOzar.com\n\nMy task here is to identify the sensitivity of the database, so that I can capture that in SQL Data Catalog (my system of record for data classification), then use that metadata to define my masking operations before secondary use of that database.",
            "metadata": {}
        },
        {
            "cell_type": "code",
            "source": "-- Get a list of tables and views in the current database\nSELECT table_catalog [database], table_schema [schema], table_name [name], table_type [type]\nFROM [StackOverflow2010].INFORMATION_SCHEMA.TABLES;",
            "metadata": {},
            "outputs": [
                {
                    "output_type": "error",
                    "evalue": "Query failed: The connection does not support MultipleActiveResultSets.",
                    "ename": "",
                    "traceback": []
                },
                {
                    "output_type": "display_data",
                    "data": {
                        "text/html": "Total execution time: 00:00:00"
                    },
                    "metadata": {}
                }
            ],
            "execution_count": 19
        },
        {
            "cell_type": "markdown",
            "source": "First, let's look at the Users table before masking. Some recognisable names here. Location is pretty specific in some cases, and AboutMe is sometimes very identifiable. WebsiteUrl definitely so. EmailHash is null in all cases. What if it started to be used though? This is something I would flag up for refactoring; if it's not used, let's not leave it in the schema. Sometimes there's some common-sense risk reduction that we can use this opportunity to implement.",
            "metadata": {}
        },
        {
            "cell_type": "code",
            "source": "SELECT Top(10) * FROM [StackOverflow2010].dbo.Users;",
            "metadata": {},
            "outputs": [
                {
                    "output_type": "error",
                    "evalue": "Query failed: The connection does not support MultipleActiveResultSets.",
                    "ename": "",
                    "traceback": []
                },
                {
                    "output_type": "display_data",
                    "data": {
                        "text/html": "Total execution time: 00:00:00"
                    },
                    "metadata": {}
                }
            ],
            "execution_count": 20
        },
        {
            "cell_type": "markdown",
            "source": "Next, the Badges table.",
            "metadata": {}
        },
        {
            "cell_type": "code",
            "source": "SELECT Top(5) * FROM [StackOverflow2010].dbo.Badges;",
            "metadata": {},
            "outputs": [
                {
                    "output_type": "error",
                    "evalue": "Query failed: The connection does not support MultipleActiveResultSets.",
                    "ename": "",
                    "traceback": []
                },
                {
                    "output_type": "display_data",
                    "data": {
                        "text/html": "Total execution time: 00:00:00"
                    },
                    "metadata": {}
                }
            ],
            "execution_count": 21
        },
        {
            "cell_type": "markdown",
            "source": "Slightly odd normalisation decision perhaps, but not sensitive.\nOK, leave that one, Votes next.",
            "metadata": {}
        },
        {
            "cell_type": "code",
            "source": "SELECT Top(5) * FROM [StackOverflow for Masking].dbo.Votes;",
            "metadata": {},
            "outputs": [
                {
                    "output_type": "error",
                    "evalue": "Query failed: The connection does not support MultipleActiveResultSets.",
                    "ename": "",
                    "traceback": []
                },
                {
                    "output_type": "display_data",
                    "data": {
                        "text/html": "Total execution time: 00:00:00"
                    },
                    "metadata": {}
                }
            ],
            "execution_count": 22
        },
        {
            "cell_type": "markdown",
            "source": "Can't see anything there. If we've masked the users well, what they've voted for won't be very interesting. Or _will_ it? If I know the context, I might be able to do reidentification. Jon Skeet is famously prolific for example. One of those slightly tricky calls that requires business context and a risk assessment. Who is going to see the masked database? What would happen id they reidentified using their knowledge?",
            "metadata": {}
        },
        {
            "cell_type": "code",
            "source": "SELECT Top(5) * FROM [StackOverflow2010].dbo.Comments;",
            "metadata": {},
            "outputs": [
                {
                    "output_type": "error",
                    "evalue": "Query failed: The connection does not support MultipleActiveResultSets.",
                    "ename": "",
                    "traceback": []
                },
                {
                    "output_type": "display_data",
                    "data": {
                        "text/html": "Total execution time: 00:00:00.001"
                    },
                    "metadata": {}
                }
            ],
            "execution_count": 23
        },
        {
            "cell_type": "markdown",
            "source": "Going to need to handle that text I think. Ok, Posts next.",
            "metadata": {}
        },
        {
            "cell_type": "code",
            "source": "SELECT Top(5) * FROM [StackOverflow2010].dbo.Posts;",
            "metadata": {},
            "outputs": [
                {
                    "output_type": "error",
                    "evalue": "Query failed: The connection does not support MultipleActiveResultSets.",
                    "ename": "",
                    "traceback": []
                },
                {
                    "output_type": "display_data",
                    "data": {
                        "text/html": "Total execution time: 00:00:00.001"
                    },
                    "metadata": {}
                }
            ],
            "execution_count": 24
        },
        {
            "cell_type": "markdown",
            "source": "LastEditorDisplayName, going on this list.\nHow about Body? This is a bit trickier; the body is in most cases a public post on a website about a technical matter. How could that be confidential?\nBut here's the rub; GDPR isn't necessarily about confidentiality. It's about taking a risk-based approach to the handling of personal data. The first thing we have to identify is whether it is personal. \n```\nPersonal data is information that relates to an identified or identifiable individual.\n\nWhat identifies an individual could be as simple as a name or a number or could include other identifiers such as an IP address or a cookie identifier, or other factors.\n```\nhttps://ico.org.uk/for-organisations/guide-to-data-protection/guide-to-the-general-data-protection-regulation-gdpr/key-definitions/what-is-personal-data/",
            "metadata": {}
        },
        {
            "cell_type": "code",
            "source": "SELECT Top(5) * FROM [StackOverflow2010].dbo.Posts where Body like '%@%';",
            "metadata": {},
            "outputs": [
                {
                    "output_type": "error",
                    "evalue": "Query failed: The connection does not support MultipleActiveResultSets.",
                    "ename": "",
                    "traceback": []
                },
                {
                    "output_type": "display_data",
                    "data": {
                        "text/html": "Total execution time: 00:00:00"
                    },
                    "metadata": {}
                }
            ],
            "execution_count": 15
        },
        {
            "cell_type": "markdown",
            "source": "There are references to other people, that looks like someone's personal blog url there as well. This is identifiable data. It might be low in risk and confidentiality, but that's an assessment for later.",
            "metadata": {}
        }
    ]
}