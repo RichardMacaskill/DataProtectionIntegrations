{
    "metadata": {
        "kernelspec": {
            "name": "SQL",
            "display_name": "SQL",
            "language": "sql"
        },
        "language_info": {
            "name": "sql",
            "version": ""
        }
    },
    "nbformat_minor": 2,
    "nbformat": 4,
    "cells": [
        {
            "cell_type": "markdown",
            "source": "# Data Masking Sample \n### Using StackOverflow2010 Database from BrentOzar.com\n\nMy task here is to identify the sensitivity of the database, so that I can capture that in SQL Data Catalog (my system of record for data classification), then use that metadata to define my masking operations before secondary use of that database.",
            "metadata": {}
        },
        {
            "cell_type": "code",
            "source": "-- Get a list of tables and views in the current database\nSELECT table_catalog [database], table_schema [schema], table_name [name], table_type [type]\nFROM [StackOverflow2010].INFORMATION_SCHEMA.TABLES;",
            "metadata": {},
            "outputs": [
                {
                    "output_type": "display_data",
                    "data": {
                        "text/html": "(9 rows affected)"
                    },
                    "metadata": {}
                },
                {
                    "output_type": "display_data",
                    "data": {
                        "text/html": "Total execution time: 00:00:01.133"
                    },
                    "metadata": {}
                },
                {
                    "output_type": "execute_result",
                    "metadata": {},
                    "execution_count": 1,
                    "data": {
                        "application/vnd.dataresource+json": {
                            "schema": {
                                "fields": [
                                    {
                                        "name": "database"
                                    },
                                    {
                                        "name": "schema"
                                    },
                                    {
                                        "name": "name"
                                    },
                                    {
                                        "name": "type"
                                    }
                                ]
                            },
                            "data": [
                                {
                                    "0": "StackOverflow2010",
                                    "1": "dbo",
                                    "2": "Comments",
                                    "3": "BASE TABLE"
                                },
                                {
                                    "0": "StackOverflow2010",
                                    "1": "dbo",
                                    "2": "LinkTypes",
                                    "3": "BASE TABLE"
                                },
                                {
                                    "0": "StackOverflow2010",
                                    "1": "dbo",
                                    "2": "PostLinks",
                                    "3": "BASE TABLE"
                                },
                                {
                                    "0": "StackOverflow2010",
                                    "1": "dbo",
                                    "2": "Posts",
                                    "3": "BASE TABLE"
                                },
                                {
                                    "0": "StackOverflow2010",
                                    "1": "dbo",
                                    "2": "PostTypes",
                                    "3": "BASE TABLE"
                                },
                                {
                                    "0": "StackOverflow2010",
                                    "1": "dbo",
                                    "2": "Users",
                                    "3": "BASE TABLE"
                                },
                                {
                                    "0": "StackOverflow2010",
                                    "1": "dbo",
                                    "2": "Votes",
                                    "3": "BASE TABLE"
                                },
                                {
                                    "0": "StackOverflow2010",
                                    "1": "dbo",
                                    "2": "VoteTypes",
                                    "3": "BASE TABLE"
                                },
                                {
                                    "0": "StackOverflow2010",
                                    "1": "dbo",
                                    "2": "Badges",
                                    "3": "BASE TABLE"
                                }
                            ]
                        },
                        "text/html": "<table><tr><th>database</th><th>schema</th><th>name</th><th>type</th></tr><tr><td>StackOverflow2010</td><td>dbo</td><td>Comments</td><td>BASE TABLE</td></tr><tr><td>StackOverflow2010</td><td>dbo</td><td>LinkTypes</td><td>BASE TABLE</td></tr><tr><td>StackOverflow2010</td><td>dbo</td><td>PostLinks</td><td>BASE TABLE</td></tr><tr><td>StackOverflow2010</td><td>dbo</td><td>Posts</td><td>BASE TABLE</td></tr><tr><td>StackOverflow2010</td><td>dbo</td><td>PostTypes</td><td>BASE TABLE</td></tr><tr><td>StackOverflow2010</td><td>dbo</td><td>Users</td><td>BASE TABLE</td></tr><tr><td>StackOverflow2010</td><td>dbo</td><td>Votes</td><td>BASE TABLE</td></tr><tr><td>StackOverflow2010</td><td>dbo</td><td>VoteTypes</td><td>BASE TABLE</td></tr><tr><td>StackOverflow2010</td><td>dbo</td><td>Badges</td><td>BASE TABLE</td></tr></table>"
                    }
                }
            ],
            "execution_count": 1
        },
        {
            "cell_type": "markdown",
            "source": "First, let's look at the Users table before masking. Some recognisable names here. Location is pretty specific in some cases, and AboutMe is sometimes very identifiable. WebsiteUrl definitely so. EmailHash is null in all cases. What if it started to be used though? This is something I would flag up for refactoring; if it's not used, let's not leave it in the schema. Sometimes there's some common-sense risk reduction that we can use this opportunity to implement.",
            "metadata": {}
        },
        {
            "cell_type": "code",
            "source": "SELECT Top(10) * FROM [StackOverflow2010].dbo.Users;",
            "metadata": {},
            "outputs": [
                {
                    "output_type": "display_data",
                    "data": {
                        "text/html": "(10 rows affected)"
                    },
                    "metadata": {}
                },
                {
                    "output_type": "display_data",
                    "data": {
                        "text/html": "Total execution time: 00:00:00.114"
                    },
                    "metadata": {}
                },
                {
                    "output_type": "execute_result",
                    "metadata": {},
                    "execution_count": 8,
                    "data": {
                        "application/vnd.dataresource+json": {
                            "schema": {
                                "fields": [
                                    {
                                        "name": "Id"
                                    },
                                    {
                                        "name": "AboutMe"
                                    },
                                    {
                                        "name": "Age"
                                    },
                                    {
                                        "name": "CreationDate"
                                    },
                                    {
                                        "name": "DisplayName"
                                    },
                                    {
                                        "name": "DownVotes"
                                    },
                                    {
                                        "name": "EmailHash"
                                    },
                                    {
                                        "name": "LastAccessDate"
                                    },
                                    {
                                        "name": "Location"
                                    },
                                    {
                                        "name": "Reputation"
                                    },
                                    {
                                        "name": "UpVotes"
                                    },
                                    {
                                        "name": "Views"
                                    },
                                    {
                                        "name": "WebsiteUrl"
                                    },
                                    {
                                        "name": "AccountId"
                                    }
                                ]
                            },
                            "data": [
                                {
                                    "0": "-1",
                                    "1": "<p>Hi, I'm not really a person.</p>\n\n<p>I'm a background process that helps keep this site clean!</p>\n\n<p>I do things like</p>\n\n<ul>\n<li>Randomly poke old unanswered questions every hour so they get some attention</li>\n<li>Own community questions and answers so nobody gets unnecessary reputation from them</li>\n<li>Own downvotes on spam/evil posts that get permanently deleted</li>\n<li>Own suggested edits from anonymous users</li>\n<li><a href=\"http://meta.stackexchange.com/a/92006\">Remove abandoned questions</a></li>\n</ul>\n",
                                    "2": "NULL",
                                    "3": "2008-07-31 00:00:00.000",
                                    "4": "Community",
                                    "5": "980920",
                                    "6": "NULL",
                                    "7": "2008-08-26 00:16:53.810",
                                    "8": "on the server farm",
                                    "9": "1",
                                    "10": "274835",
                                    "11": "649",
                                    "12": "http://meta.stackexchange.com/",
                                    "13": "-1"
                                },
                                {
                                    "0": "1",
                                    "1": "<p><a href=\"http://www.codinghorror.com/blog/archives/001169.html\" rel=\"nofollow\">Stack Overflow Valued Associate #00001</a></p>\n\n<p>Wondering how our software development process works? <a href=\"http://www.youtube.com/watch?v=08xQLGWTSag\" rel=\"nofollow\">Take a look!</a></p>\n\n<p>Find me <a href=\"http://twitter.com/codinghorror\" rel=\"nofollow\">on twitter</a>, or <a href=\"http://www.codinghorror.com/blog\" rel=\"nofollow\">read my blog</a>. Don't say I didn't warn you <em>because I totally did</em>.</p>\n\n<p>However, <a href=\"http://www.codinghorror.com/blog/2012/02/farewell-stack-exchange.html\" rel=\"nofollow\">I no longer work at Stack Exchange, Inc</a>. I'll miss you all. Well, <em>some</em> of you, anyway. :)</p>\n",
                                    "2": "NULL",
                                    "3": "2008-07-31 14:22:31.287",
                                    "4": "Jeff Atwood",
                                    "5": "1309",
                                    "6": "NULL",
                                    "7": "2018-08-29 02:34:22.893",
                                    "8": "El Cerrito, CA",
                                    "9": "44300",
                                    "10": "3367",
                                    "11": "408587",
                                    "12": "http://www.codinghorror.com/blog/",
                                    "13": "1"
                                },
                                {
                                    "0": "2",
                                    "1": "<p>Developer on the Stack Overflow team.  Find me on</p>\n\n<p><a href=\"http://www.twitter.com/SuperDalgas\" rel=\"nofollow noreferrer\">Twitter</a>\n<br><br>\n<a href=\"http://blog.stackoverflow.com/2009/05/welcome-stack-overflow-valued-associate-00003/\">Stack Overflow Valued Associate #00003</a></p>\n",
                                    "2": "NULL",
                                    "3": "2008-07-31 14:22:31.287",
                                    "4": "Geoff Dalgas",
                                    "5": "88",
                                    "6": "NULL",
                                    "7": "2018-08-23 17:31:56.427",
                                    "8": "Corvallis, OR",
                                    "9": "3491",
                                    "10": "650",
                                    "11": "23966",
                                    "12": "http://stackoverflow.com",
                                    "13": "2"
                                },
                                {
                                    "0": "3",
                                    "1": "<p><a href=\"http://blog.stackoverflow.com/2009/01/welcome-stack-overflow-valued-associate-00002/\">Developer on the Stack Overflow team</a>.</p>\n\n<p>Was dubbed <strong>SALTY SAILOR</strong> by Jeff Atwood, as filth and flarn would oft-times fly when dealing with a particularly nasty bug!</p>\n\n<ul>\n<li>Twitter me: <a href=\"http://twitter.com/jarrod_dixon\" rel=\"nofollow noreferrer\">jarrod_dixon</a></li>\n<li>Email me: jarrod.m.dixon@gmail.com</li>\n</ul>\n",
                                    "2": "NULL",
                                    "3": "2008-07-31 14:22:31.287",
                                    "4": "Jarrod Dixon",
                                    "5": "100",
                                    "6": "NULL",
                                    "7": "2018-08-30 20:56:23.897",
                                    "8": "Raleigh, NC, United States",
                                    "9": "13418",
                                    "10": "7285",
                                    "11": "24396",
                                    "12": "http://jarroddixon.com",
                                    "13": "3"
                                },
                                {
                                    "0": "4",
                                    "1": "<p>I am:</p>\n\n<ul>\n<li>the co-founder and CEO of <a href=\"http://stackoverflow.com\">Stack Overflow</a></li>\n<li>the co-founder of <a href=\"http://www.fogcreek.com\" rel=\"nofollow noreferrer\">Fog Creek Software</a></li>\n<li>the creator of <a href=\"http://trello.com\" rel=\"nofollow noreferrer\">Trello</a> (now owned by Atlassian)</li>\n</ul>\n\n<p>You can find me on my rarely-updated blog, <a href=\"http://joelonsoftware.com\" rel=\"nofollow noreferrer\">Joel on Software</a>.</p>\n",
                                    "2": "NULL",
                                    "3": "2008-07-31 14:22:31.317",
                                    "4": "Joel Spolsky",
                                    "5": "96",
                                    "6": "NULL",
                                    "7": "2018-08-14 22:18:15.227",
                                    "8": "New York, NY",
                                    "9": "28768",
                                    "10": "797",
                                    "11": "73755",
                                    "12": "http://www.joelonsoftware.com/",
                                    "13": "4"
                                },
                                {
                                    "0": "5",
                                    "1": "<p>Technical Evangelist at Microsoft, specializing in ASP.NET MVC.</p>\n\n<p>I don't use this site anymore because the moderators close or delete far too many of the useful questions.</p>\n",
                                    "2": "NULL",
                                    "3": "2008-07-31 14:22:31.317",
                                    "4": "Jon Galloway",
                                    "5": "34",
                                    "6": "NULL",
                                    "7": "2018-08-29 16:48:35.993",
                                    "8": "San Diego, CA",
                                    "9": "39172",
                                    "10": "781",
                                    "11": "11700",
                                    "12": "http://weblogs.asp.net/jgalloway/",
                                    "13": "5"
                                },
                                {
                                    "0": "8",
                                    "1": "<p>This is a puppet test account I use to validate \"regular user\" stuff on the site</p>\r\n<p>-- <a href=\"http://stackoverflow.com/users/1/jeff-atwood\" rel=\"nofollow\">Jeff Atwood</a>",
                                    "2": "NULL",
                                    "3": "2008-07-31 21:33:24.057",
                                    "4": "Eggs McLaren",
                                    "5": "9",
                                    "6": "NULL",
                                    "7": "2018-04-09 02:04:55.577",
                                    "8": "",
                                    "9": "942",
                                    "10": "12",
                                    "11": "6372",
                                    "12": "",
                                    "13": "6"
                                },
                                {
                                    "0": "9",
                                    "1": "<p>Independent software engineer</p>\n",
                                    "2": "NULL",
                                    "3": "2008-07-31 21:35:26.517",
                                    "4": "Kevin Dente",
                                    "5": "4",
                                    "6": "NULL",
                                    "7": "2018-08-30 18:18:03.423",
                                    "8": "Oakland, CA",
                                    "9": "14337",
                                    "10": "46",
                                    "11": "4949",
                                    "12": "http://weblogs.asp.net/kdente",
                                    "13": "7"
                                },
                                {
                                    "0": "10",
                                    "1": "<p>I'm not takin' my sneakers off!\n<br><br>\nActually, <b>I'm a test account</b>, used to help debug problems here on StackOverflow.</p>\n",
                                    "2": "NULL",
                                    "3": "2008-07-31 21:57:06.240",
                                    "4": "Sneakers O'Toole",
                                    "5": "0",
                                    "6": "NULL",
                                    "7": "2018-06-08 05:11:12.523",
                                    "8": "Morganton, North Carolina United States",
                                    "9": "101",
                                    "10": "0",
                                    "11": "3678",
                                    "12": "https://www.youtube.com/watch?v=OcSKd13mKUY",
                                    "13": "8"
                                },
                                {
                                    "0": "11",
                                    "1": "NULL",
                                    "2": "NULL",
                                    "3": "2008-08-01 00:59:11.147",
                                    "4": "Anonymous User",
                                    "5": "0",
                                    "6": "NULL",
                                    "7": "2008-08-01 00:59:11.147",
                                    "8": "NULL",
                                    "9": "1890",
                                    "10": "0",
                                    "11": "2123",
                                    "12": "NULL",
                                    "13": "561854"
                                }
                            ]
                        },
                        "text/html": "<table><tr><th>Id</th><th>AboutMe</th><th>Age</th><th>CreationDate</th><th>DisplayName</th><th>DownVotes</th><th>EmailHash</th><th>LastAccessDate</th><th>Location</th><th>Reputation</th><th>UpVotes</th><th>Views</th><th>WebsiteUrl</th><th>AccountId</th></tr><tr><td>-1</td><td>&lt;p&gt;Hi, I'm not really a person.&lt;/p&gt;\n\n&lt;p&gt;I'm a background process that helps keep this site clean!&lt;/p&gt;\n\n&lt;p&gt;I do things like&lt;/p&gt;\n\n&lt;ul&gt;\n&lt;li&gt;Randomly poke old unanswered questions every hour so they get some attention&lt;/li&gt;\n&lt;li&gt;Own community questions and answers so nobody gets unnecessary reputation from them&lt;/li&gt;\n&lt;li&gt;Own downvotes on spam/evil posts that get permanently deleted&lt;/li&gt;\n&lt;li&gt;Own suggested edits from anonymous users&lt;/li&gt;\n&lt;li&gt;&lt;a href=&quot;http://meta.stackexchange.com/a/92006&quot;&gt;Remove abandoned questions&lt;/a&gt;&lt;/li&gt;\n&lt;/ul&gt;\n</td><td>NULL</td><td>2008-07-31 00:00:00.000</td><td>Community</td><td>980920</td><td>NULL</td><td>2008-08-26 00:16:53.810</td><td>on the server farm</td><td>1</td><td>274835</td><td>649</td><td>http://meta.stackexchange.com/</td><td>-1</td></tr><tr><td>1</td><td>&lt;p&gt;&lt;a href=&quot;http://www.codinghorror.com/blog/archives/001169.html&quot; rel=&quot;nofollow&quot;&gt;Stack Overflow Valued Associate #00001&lt;/a&gt;&lt;/p&gt;\n\n&lt;p&gt;Wondering how our software development process works? &lt;a href=&quot;http://www.youtube.com/watch?v=08xQLGWTSag&quot; rel=&quot;nofollow&quot;&gt;Take a look!&lt;/a&gt;&lt;/p&gt;\n\n&lt;p&gt;Find me &lt;a href=&quot;http://twitter.com/codinghorror&quot; rel=&quot;nofollow&quot;&gt;on twitter&lt;/a&gt;, or &lt;a href=&quot;http://www.codinghorror.com/blog&quot; rel=&quot;nofollow&quot;&gt;read my blog&lt;/a&gt;. Don't say I didn't warn you &lt;em&gt;because I totally did&lt;/em&gt;.&lt;/p&gt;\n\n&lt;p&gt;However, &lt;a href=&quot;http://www.codinghorror.com/blog/2012/02/farewell-stack-exchange.html&quot; rel=&quot;nofollow&quot;&gt;I no longer work at Stack Exchange, Inc&lt;/a&gt;. I'll miss you all. Well, &lt;em&gt;some&lt;/em&gt; of you, anyway. :)&lt;/p&gt;\n</td><td>NULL</td><td>2008-07-31 14:22:31.287</td><td>Jeff Atwood</td><td>1309</td><td>NULL</td><td>2018-08-29 02:34:22.893</td><td>El Cerrito, CA</td><td>44300</td><td>3367</td><td>408587</td><td>http://www.codinghorror.com/blog/</td><td>1</td></tr><tr><td>2</td><td>&lt;p&gt;Developer on the Stack Overflow team.  Find me on&lt;/p&gt;\n\n&lt;p&gt;&lt;a href=&quot;http://www.twitter.com/SuperDalgas&quot; rel=&quot;nofollow noreferrer&quot;&gt;Twitter&lt;/a&gt;\n&lt;br&gt;&lt;br&gt;\n&lt;a href=&quot;http://blog.stackoverflow.com/2009/05/welcome-stack-overflow-valued-associate-00003/&quot;&gt;Stack Overflow Valued Associate #00003&lt;/a&gt;&lt;/p&gt;\n</td><td>NULL</td><td>2008-07-31 14:22:31.287</td><td>Geoff Dalgas</td><td>88</td><td>NULL</td><td>2018-08-23 17:31:56.427</td><td>Corvallis, OR</td><td>3491</td><td>650</td><td>23966</td><td>http://stackoverflow.com</td><td>2</td></tr><tr><td>3</td><td>&lt;p&gt;&lt;a href=&quot;http://blog.stackoverflow.com/2009/01/welcome-stack-overflow-valued-associate-00002/&quot;&gt;Developer on the Stack Overflow team&lt;/a&gt;.&lt;/p&gt;\n\n&lt;p&gt;Was dubbed &lt;strong&gt;SALTY SAILOR&lt;/strong&gt; by Jeff Atwood, as filth and flarn would oft-times fly when dealing with a particularly nasty bug!&lt;/p&gt;\n\n&lt;ul&gt;\n&lt;li&gt;Twitter me: &lt;a href=&quot;http://twitter.com/jarrod_dixon&quot; rel=&quot;nofollow noreferrer&quot;&gt;jarrod_dixon&lt;/a&gt;&lt;/li&gt;\n&lt;li&gt;Email me: jarrod.m.dixon@gmail.com&lt;/li&gt;\n&lt;/ul&gt;\n</td><td>NULL</td><td>2008-07-31 14:22:31.287</td><td>Jarrod Dixon</td><td>100</td><td>NULL</td><td>2018-08-30 20:56:23.897</td><td>Raleigh, NC, United States</td><td>13418</td><td>7285</td><td>24396</td><td>http://jarroddixon.com</td><td>3</td></tr><tr><td>4</td><td>&lt;p&gt;I am:&lt;/p&gt;\n\n&lt;ul&gt;\n&lt;li&gt;the co-founder and CEO of &lt;a href=&quot;http://stackoverflow.com&quot;&gt;Stack Overflow&lt;/a&gt;&lt;/li&gt;\n&lt;li&gt;the co-founder of &lt;a href=&quot;http://www.fogcreek.com&quot; rel=&quot;nofollow noreferrer&quot;&gt;Fog Creek Software&lt;/a&gt;&lt;/li&gt;\n&lt;li&gt;the creator of &lt;a href=&quot;http://trello.com&quot; rel=&quot;nofollow noreferrer&quot;&gt;Trello&lt;/a&gt; (now owned by Atlassian)&lt;/li&gt;\n&lt;/ul&gt;\n\n&lt;p&gt;You can find me on my rarely-updated blog, &lt;a href=&quot;http://joelonsoftware.com&quot; rel=&quot;nofollow noreferrer&quot;&gt;Joel on Software&lt;/a&gt;.&lt;/p&gt;\n</td><td>NULL</td><td>2008-07-31 14:22:31.317</td><td>Joel Spolsky</td><td>96</td><td>NULL</td><td>2018-08-14 22:18:15.227</td><td>New York, NY</td><td>28768</td><td>797</td><td>73755</td><td>http://www.joelonsoftware.com/</td><td>4</td></tr><tr><td>5</td><td>&lt;p&gt;Technical Evangelist at Microsoft, specializing in ASP.NET MVC.&lt;/p&gt;\n\n&lt;p&gt;I don't use this site anymore because the moderators close or delete far too many of the useful questions.&lt;/p&gt;\n</td><td>NULL</td><td>2008-07-31 14:22:31.317</td><td>Jon Galloway</td><td>34</td><td>NULL</td><td>2018-08-29 16:48:35.993</td><td>San Diego, CA</td><td>39172</td><td>781</td><td>11700</td><td>http://weblogs.asp.net/jgalloway/</td><td>5</td></tr><tr><td>8</td><td>&lt;p&gt;This is a puppet test account I use to validate &quot;regular user&quot; stuff on the site&lt;/p&gt;\r\n&lt;p&gt;-- &lt;a href=&quot;http://stackoverflow.com/users/1/jeff-atwood&quot; rel=&quot;nofollow&quot;&gt;Jeff Atwood&lt;/a&gt;</td><td>NULL</td><td>2008-07-31 21:33:24.057</td><td>Eggs McLaren</td><td>9</td><td>NULL</td><td>2018-04-09 02:04:55.577</td><td></td><td>942</td><td>12</td><td>6372</td><td></td><td>6</td></tr><tr><td>9</td><td>&lt;p&gt;Independent software engineer&lt;/p&gt;\n</td><td>NULL</td><td>2008-07-31 21:35:26.517</td><td>Kevin Dente</td><td>4</td><td>NULL</td><td>2018-08-30 18:18:03.423</td><td>Oakland, CA</td><td>14337</td><td>46</td><td>4949</td><td>http://weblogs.asp.net/kdente</td><td>7</td></tr><tr><td>10</td><td>&lt;p&gt;I'm not takin' my sneakers off!\n&lt;br&gt;&lt;br&gt;\nActually, &lt;b&gt;I'm a test account&lt;/b&gt;, used to help debug problems here on StackOverflow.&lt;/p&gt;\n</td><td>NULL</td><td>2008-07-31 21:57:06.240</td><td>Sneakers O'Toole</td><td>0</td><td>NULL</td><td>2018-06-08 05:11:12.523</td><td>Morganton, North Carolina United States</td><td>101</td><td>0</td><td>3678</td><td>https://www.youtube.com/watch?v=OcSKd13mKUY</td><td>8</td></tr><tr><td>11</td><td>NULL</td><td>NULL</td><td>2008-08-01 00:59:11.147</td><td>Anonymous User</td><td>0</td><td>NULL</td><td>2008-08-01 00:59:11.147</td><td>NULL</td><td>1890</td><td>0</td><td>2123</td><td>NULL</td><td>561854</td></tr></table>"
                    }
                }
            ],
            "execution_count": 8
        },
        {
            "cell_type": "markdown",
            "source": "Next, the Badges table.",
            "metadata": {}
        },
        {
            "cell_type": "code",
            "source": "SELECT Top(5) * FROM [StackOverflow for Masking].dbo.Badges;",
            "metadata": {},
            "outputs": [
                {
                    "output_type": "display_data",
                    "data": {
                        "text/html": "(5 rows affected)"
                    },
                    "metadata": {}
                },
                {
                    "output_type": "display_data",
                    "data": {
                        "text/html": "Total execution time: 00:00:00.0859050"
                    },
                    "metadata": {}
                },
                {
                    "output_type": "execute_result",
                    "execution_count": 4,
                    "data": {
                        "application/vnd.dataresource+json": {
                            "schema": {
                                "fields": [
                                    {
                                        "name": "Id"
                                    },
                                    {
                                        "name": "Name"
                                    },
                                    {
                                        "name": "UserId"
                                    },
                                    {
                                        "name": "Date"
                                    }
                                ]
                            },
                            "data": [
                                {
                                    "0": "82946",
                                    "1": "Teacher",
                                    "2": "3718",
                                    "3": "2008-09-15 08:55:03.923"
                                },
                                {
                                    "0": "82947",
                                    "1": "Teacher",
                                    "2": "994",
                                    "3": "2008-09-15 08:55:03.957"
                                },
                                {
                                    "0": "82949",
                                    "1": "Teacher",
                                    "2": "3893",
                                    "3": "2008-09-15 08:55:03.957"
                                },
                                {
                                    "0": "82950",
                                    "1": "Teacher",
                                    "2": "4591",
                                    "3": "2008-09-15 08:55:03.957"
                                },
                                {
                                    "0": "82951",
                                    "1": "Teacher",
                                    "2": "5196",
                                    "3": "2008-09-15 08:55:03.957"
                                }
                            ]
                        },
                        "text/html": "<table><tr><th>Id</th><th>Name</th><th>UserId</th><th>Date</th></tr><tr><td>82946</td><td>Teacher</td><td>3718</td><td>2008-09-15 08:55:03.923</td></tr><tr><td>82947</td><td>Teacher</td><td>994</td><td>2008-09-15 08:55:03.957</td></tr><tr><td>82949</td><td>Teacher</td><td>3893</td><td>2008-09-15 08:55:03.957</td></tr><tr><td>82950</td><td>Teacher</td><td>4591</td><td>2008-09-15 08:55:03.957</td></tr><tr><td>82951</td><td>Teacher</td><td>5196</td><td>2008-09-15 08:55:03.957</td></tr></table>"
                    },
                    "metadata": {}
                }
            ],
            "execution_count": 4
        },
        {
            "cell_type": "markdown",
            "source": "Slightly odd normalisation decision perhaps, but not sensitive.\nOK, leave that one, Votes next.",
            "metadata": {}
        },
        {
            "cell_type": "code",
            "source": "SELECT Top(5) * FROM [StackOverflow for Masking].dbo.Votes;",
            "metadata": {},
            "outputs": [
                {
                    "output_type": "display_data",
                    "data": {
                        "text/html": "(5 rows affected)"
                    },
                    "metadata": {}
                },
                {
                    "output_type": "display_data",
                    "data": {
                        "text/html": "Total execution time: 00:00:00.1026600"
                    },
                    "metadata": {}
                },
                {
                    "output_type": "execute_result",
                    "execution_count": 5,
                    "data": {
                        "application/vnd.dataresource+json": {
                            "schema": {
                                "fields": [
                                    {
                                        "name": "Id"
                                    },
                                    {
                                        "name": "PostId"
                                    },
                                    {
                                        "name": "UserId"
                                    },
                                    {
                                        "name": "BountyAmount"
                                    },
                                    {
                                        "name": "VoteTypeId"
                                    },
                                    {
                                        "name": "CreationDate"
                                    }
                                ]
                            },
                            "data": [
                                {
                                    "0": "1",
                                    "1": "1",
                                    "2": "NULL",
                                    "3": "NULL",
                                    "4": "2",
                                    "5": "2008-07-31 00:00:00.000"
                                },
                                {
                                    "0": "2",
                                    "1": "3",
                                    "2": "NULL",
                                    "3": "NULL",
                                    "4": "2",
                                    "5": "2008-07-31 00:00:00.000"
                                },
                                {
                                    "0": "3",
                                    "1": "2",
                                    "2": "NULL",
                                    "3": "NULL",
                                    "4": "2",
                                    "5": "2008-07-31 00:00:00.000"
                                },
                                {
                                    "0": "4",
                                    "1": "4",
                                    "2": "NULL",
                                    "3": "NULL",
                                    "4": "2",
                                    "5": "2008-07-31 00:00:00.000"
                                },
                                {
                                    "0": "5",
                                    "1": "6",
                                    "2": "NULL",
                                    "3": "NULL",
                                    "4": "2",
                                    "5": "2008-07-31 00:00:00.000"
                                }
                            ]
                        },
                        "text/html": "<table><tr><th>Id</th><th>PostId</th><th>UserId</th><th>BountyAmount</th><th>VoteTypeId</th><th>CreationDate</th></tr><tr><td>1</td><td>1</td><td>NULL</td><td>NULL</td><td>2</td><td>2008-07-31 00:00:00.000</td></tr><tr><td>2</td><td>3</td><td>NULL</td><td>NULL</td><td>2</td><td>2008-07-31 00:00:00.000</td></tr><tr><td>3</td><td>2</td><td>NULL</td><td>NULL</td><td>2</td><td>2008-07-31 00:00:00.000</td></tr><tr><td>4</td><td>4</td><td>NULL</td><td>NULL</td><td>2</td><td>2008-07-31 00:00:00.000</td></tr><tr><td>5</td><td>6</td><td>NULL</td><td>NULL</td><td>2</td><td>2008-07-31 00:00:00.000</td></tr></table>"
                    },
                    "metadata": {}
                }
            ],
            "execution_count": 5
        },
        {
            "cell_type": "markdown",
            "source": "Can't see anything there. If we've masked the users well, what they've voted for won't be very interesting. Or _will_ it? If I know the context, I might be able to do reidentification. Jon Skeet is famously prolific for example. One of those slightly tricky calls that requires business context and a risk assessment. Who is going to see the masked database? What would happen id they reidentified using their knowledge?",
            "metadata": {}
        },
        {
            "cell_type": "code",
            "source": "SELECT Top(5) * FROM [StackOverflow for Masking].dbo.Comments;",
            "metadata": {},
            "outputs": [
                {
                    "output_type": "display_data",
                    "data": {
                        "text/html": "(5 rows affected)"
                    },
                    "metadata": {}
                },
                {
                    "output_type": "display_data",
                    "data": {
                        "text/html": "Total execution time: 00:00:00.1368510"
                    },
                    "metadata": {}
                },
                {
                    "output_type": "execute_result",
                    "execution_count": 6,
                    "data": {
                        "application/vnd.dataresource+json": {
                            "schema": {
                                "fields": [
                                    {
                                        "name": "Id"
                                    },
                                    {
                                        "name": "CreationDate"
                                    },
                                    {
                                        "name": "PostId"
                                    },
                                    {
                                        "name": "Score"
                                    },
                                    {
                                        "name": "Text"
                                    },
                                    {
                                        "name": "UserId"
                                    }
                                ]
                            },
                            "data": [
                                {
                                    "0": "1",
                                    "1": "2008-09-06 08:07:10.730",
                                    "2": "35314",
                                    "3": "36",
                                    "4": "not sure why this is getting downvoted -- it is correct! Double check it in your compiler if you don't believe him!",
                                    "5": "1"
                                },
                                {
                                    "0": "2",
                                    "1": "2008-09-06 08:09:52.330",
                                    "2": "35314",
                                    "3": "8",
                                    "4": "Yeah, I didn't believe it until I created a console app - but good lord!  Why would they give you the rope to hang yourself!  I hated that about VB.NET - the OrElse and AndAlso keywords!",
                                    "5": "3"
                                },
                                {
                                    "0": "4",
                                    "1": "2008-09-06 08:42:16.980",
                                    "2": "35195",
                                    "3": "0",
                                    "4": "I don't see an accepted answer now, I wonder how that got unaccepted. Incidentally, I would have marked an accepted answer based on the answers available at the time. Also, accepted doesn't mean Best :)",
                                    "5": "380"
                                },
                                {
                                    "0": "9",
                                    "1": "2008-09-06 12:26:30.060",
                                    "2": "47239",
                                    "3": "0",
                                    "4": "Jonathan: Wow!  Thank you for all of that, you did an amazing amount of work!",
                                    "5": "4550"
                                },
                                {
                                    "0": "10",
                                    "1": "2008-09-06 13:38:23.647",
                                    "2": "45651",
                                    "3": "6",
                                    "4": "It will help if you give some details of which database you are using as techniques vary.",
                                    "5": "242"
                                }
                            ]
                        },
                        "text/html": "<table><tr><th>Id</th><th>CreationDate</th><th>PostId</th><th>Score</th><th>Text</th><th>UserId</th></tr><tr><td>1</td><td>2008-09-06 08:07:10.730</td><td>35314</td><td>36</td><td>not sure why this is getting downvoted -- it is correct! Double check it in your compiler if you don't believe him!</td><td>1</td></tr><tr><td>2</td><td>2008-09-06 08:09:52.330</td><td>35314</td><td>8</td><td>Yeah, I didn't believe it until I created a console app - but good lord!  Why would they give you the rope to hang yourself!  I hated that about VB.NET - the OrElse and AndAlso keywords!</td><td>3</td></tr><tr><td>4</td><td>2008-09-06 08:42:16.980</td><td>35195</td><td>0</td><td>I don't see an accepted answer now, I wonder how that got unaccepted. Incidentally, I would have marked an accepted answer based on the answers available at the time. Also, accepted doesn't mean Best :)</td><td>380</td></tr><tr><td>9</td><td>2008-09-06 12:26:30.060</td><td>47239</td><td>0</td><td>Jonathan: Wow!  Thank you for all of that, you did an amazing amount of work!</td><td>4550</td></tr><tr><td>10</td><td>2008-09-06 13:38:23.647</td><td>45651</td><td>6</td><td>It will help if you give some details of which database you are using as techniques vary.</td><td>242</td></tr></table>"
                    },
                    "metadata": {}
                }
            ],
            "execution_count": 6
        },
        {
            "cell_type": "markdown",
            "source": "Going to need to handle that text I think. Ok, Posts next.",
            "metadata": {}
        },
        {
            "cell_type": "code",
            "source": "SELECT Top(5) * FROM [StackOverflow2010].dbo.Posts;",
            "metadata": {},
            "outputs": [
                {
                    "output_type": "display_data",
                    "data": {
                        "text/html": "(5 rows affected)"
                    },
                    "metadata": {}
                },
                {
                    "output_type": "display_data",
                    "data": {
                        "text/html": "Total execution time: 00:00:01.699"
                    },
                    "metadata": {}
                },
                {
                    "output_type": "execute_result",
                    "metadata": {},
                    "execution_count": 3,
                    "data": {
                        "application/vnd.dataresource+json": {
                            "schema": {
                                "fields": [
                                    {
                                        "name": "Id"
                                    },
                                    {
                                        "name": "AcceptedAnswerId"
                                    },
                                    {
                                        "name": "AnswerCount"
                                    },
                                    {
                                        "name": "Body"
                                    },
                                    {
                                        "name": "ClosedDate"
                                    },
                                    {
                                        "name": "CommentCount"
                                    },
                                    {
                                        "name": "CommunityOwnedDate"
                                    },
                                    {
                                        "name": "CreationDate"
                                    },
                                    {
                                        "name": "FavoriteCount"
                                    },
                                    {
                                        "name": "LastActivityDate"
                                    },
                                    {
                                        "name": "LastEditDate"
                                    },
                                    {
                                        "name": "LastEditorDisplayName"
                                    },
                                    {
                                        "name": "LastEditorUserId"
                                    },
                                    {
                                        "name": "OwnerUserId"
                                    },
                                    {
                                        "name": "ParentId"
                                    },
                                    {
                                        "name": "PostTypeId"
                                    },
                                    {
                                        "name": "Score"
                                    },
                                    {
                                        "name": "Tags"
                                    },
                                    {
                                        "name": "Title"
                                    },
                                    {
                                        "name": "ViewCount"
                                    }
                                ]
                            },
                            "data": [
                                {
                                    "0": "4",
                                    "1": "7",
                                    "2": "13",
                                    "3": "<p>I want to use a track-bar to change a form's opacity.</p>\n\n<p>This is my code:</p>\n\n<pre><code>decimal trans = trackBar1.Value / 5000;\nthis.Opacity = trans;\n</code></pre>\n\n<p>When I build the application, it gives the following error:</p>\n\n<blockquote>\n  <p>Cannot implicitly convert type <code>'decimal'</code> to <code>'double'</code>.</p>\n</blockquote>\n\n<p>I tried using <code>trans</code> and <code>double</code> but then the control doesn't work. This code worked fine in a past VB.NET project.</p>\n",
                                    "4": "NULL",
                                    "5": "1",
                                    "6": "2012-10-31 16:42:47.213",
                                    "7": "2008-07-31 21:42:52.667",
                                    "8": "41",
                                    "9": "2018-07-02 17:55:27.247",
                                    "10": "2018-07-02 17:55:27.247",
                                    "11": "Rich B",
                                    "12": "6786713",
                                    "13": "8",
                                    "14": "0",
                                    "15": "1",
                                    "16": "573",
                                    "17": "<c#><floating-point><type-conversion><double><decimal>",
                                    "18": "Convert Decimal to Double?",
                                    "19": "37080"
                                },
                                {
                                    "0": "6",
                                    "1": "31",
                                    "2": "5",
                                    "3": "<p>I have an absolutely positioned <code>div</code> containing several children, one of which is a relatively positioned <code>div</code>. When I use a <strong>percentage-based width</strong> on the child <code>div</code>, it collapses to '0' width on <a href=\"http://en.wikipedia.org/wiki/Internet_Explorer_7\" rel=\"noreferrer\">Internet&nbsp;Explorer&nbsp;7</a>, but not on Firefox or Safari.</p>\n\n<p>If I use <strong>pixel width</strong>, it works. If the parent is relatively positioned, the percentage width on the child works.</p>\n\n<ol>\n<li>Is there something I'm missing here?</li>\n<li>Is there an easy fix for this besides the <em>pixel-based width</em> on the\nchild?</li>\n<li>Is there an area of the CSS specification that covers this?</li>\n</ol>\n",
                                    "4": "NULL",
                                    "5": "0",
                                    "6": "NULL",
                                    "7": "2008-07-31 22:08:08.620",
                                    "8": "10",
                                    "9": "2016-03-19 06:10:52.170",
                                    "10": "2016-03-19 06:05:48.487",
                                    "11": "Rich B",
                                    "12": "63550",
                                    "13": "9",
                                    "14": "0",
                                    "15": "1",
                                    "16": "256",
                                    "17": "<html><css><css3><internet-explorer-7>",
                                    "18": "Percentage width child element in absolutely positioned parent on Internet Explorer 7",
                                    "19": "16306"
                                },
                                {
                                    "0": "7",
                                    "1": "0",
                                    "2": "0",
                                    "3": "<p>An explicit cast to double like this isn't necessary:</p>\n\n<pre><code>double trans = (double) trackBar1.Value / 5000.0;\n</code></pre>\n\n<p>Identifying the constant as <code>5000.0</code> (or as <code>5000d</code>) is sufficient:</p>\n\n<pre><code>double trans = trackBar1.Value / 5000.0;\ndouble trans = trackBar1.Value / 5000d;\n</code></pre>\n",
                                    "4": "NULL",
                                    "5": "0",
                                    "6": "NULL",
                                    "7": "2008-07-31 22:17:57.883",
                                    "8": "0",
                                    "9": "2017-12-16 05:06:57.613",
                                    "10": "2017-12-16 05:06:57.613",
                                    "11": "NULL",
                                    "12": "4020527",
                                    "13": "9",
                                    "14": "4",
                                    "15": "2",
                                    "16": "401",
                                    "17": "NULL",
                                    "18": "NULL",
                                    "19": "0"
                                },
                                {
                                    "0": "9",
                                    "1": "1404",
                                    "2": "64",
                                    "3": "<p>Given a <code>DateTime</code> representing a person's birthday, how do I calculate their age in years?  </p>\n",
                                    "4": "NULL",
                                    "5": "7",
                                    "6": "2011-08-16 19:40:43.080",
                                    "7": "2008-07-31 23:40:59.743",
                                    "8": "399",
                                    "9": "2018-07-25 11:57:14.110",
                                    "10": "2018-04-21 17:48:14.477",
                                    "11": "Rich B",
                                    "12": "3956566",
                                    "13": "1",
                                    "14": "0",
                                    "15": "1",
                                    "16": "1743",
                                    "17": "<c#><.net><datetime>",
                                    "18": "How do I calculate someone's age in C#?",
                                    "19": "480476"
                                },
                                {
                                    "0": "11",
                                    "1": "1248",
                                    "2": "35",
                                    "3": "<p>Given a specific <code>DateTime</code> value, how do I display relative time, like:</p>\n\n<ul>\n<li>2 hours ago</li>\n<li>3 days ago</li>\n<li>a month ago</li>\n</ul>\n",
                                    "4": "NULL",
                                    "5": "3",
                                    "6": "2009-09-04 13:15:59.820",
                                    "7": "2008-07-31 23:55:37.967",
                                    "8": "529",
                                    "9": "2018-07-05 04:00:56.633",
                                    "10": "2017-06-04 15:51:19.780",
                                    "11": "user2370523",
                                    "12": "6479704",
                                    "13": "1",
                                    "14": "0",
                                    "15": "1",
                                    "16": "1348",
                                    "17": "<c#><datetime><time><datediff><relative-time-span>",
                                    "18": "Calculate relative time in C#",
                                    "19": "136033"
                                }
                            ]
                        },
                        "text/html": "<table><tr><th>Id</th><th>AcceptedAnswerId</th><th>AnswerCount</th><th>Body</th><th>ClosedDate</th><th>CommentCount</th><th>CommunityOwnedDate</th><th>CreationDate</th><th>FavoriteCount</th><th>LastActivityDate</th><th>LastEditDate</th><th>LastEditorDisplayName</th><th>LastEditorUserId</th><th>OwnerUserId</th><th>ParentId</th><th>PostTypeId</th><th>Score</th><th>Tags</th><th>Title</th><th>ViewCount</th></tr><tr><td>4</td><td>7</td><td>13</td><td>&lt;p&gt;I want to use a track-bar to change a form's opacity.&lt;/p&gt;\n\n&lt;p&gt;This is my code:&lt;/p&gt;\n\n&lt;pre&gt;&lt;code&gt;decimal trans = trackBar1.Value / 5000;\nthis.Opacity = trans;\n&lt;/code&gt;&lt;/pre&gt;\n\n&lt;p&gt;When I build the application, it gives the following error:&lt;/p&gt;\n\n&lt;blockquote&gt;\n  &lt;p&gt;Cannot implicitly convert type &lt;code&gt;'decimal'&lt;/code&gt; to &lt;code&gt;'double'&lt;/code&gt;.&lt;/p&gt;\n&lt;/blockquote&gt;\n\n&lt;p&gt;I tried using &lt;code&gt;trans&lt;/code&gt; and &lt;code&gt;double&lt;/code&gt; but then the control doesn't work. This code worked fine in a past VB.NET project.&lt;/p&gt;\n</td><td>NULL</td><td>1</td><td>2012-10-31 16:42:47.213</td><td>2008-07-31 21:42:52.667</td><td>41</td><td>2018-07-02 17:55:27.247</td><td>2018-07-02 17:55:27.247</td><td>Rich B</td><td>6786713</td><td>8</td><td>0</td><td>1</td><td>573</td><td>&lt;c#&gt;&lt;floating-point&gt;&lt;type-conversion&gt;&lt;double&gt;&lt;decimal&gt;</td><td>Convert Decimal to Double?</td><td>37080</td></tr><tr><td>6</td><td>31</td><td>5</td><td>&lt;p&gt;I have an absolutely positioned &lt;code&gt;div&lt;/code&gt; containing several children, one of which is a relatively positioned &lt;code&gt;div&lt;/code&gt;. When I use a &lt;strong&gt;percentage-based width&lt;/strong&gt; on the child &lt;code&gt;div&lt;/code&gt;, it collapses to '0' width on &lt;a href=&quot;http://en.wikipedia.org/wiki/Internet_Explorer_7&quot; rel=&quot;noreferrer&quot;&gt;Internet&amp;nbsp;Explorer&amp;nbsp;7&lt;/a&gt;, but not on Firefox or Safari.&lt;/p&gt;\n\n&lt;p&gt;If I use &lt;strong&gt;pixel width&lt;/strong&gt;, it works. If the parent is relatively positioned, the percentage width on the child works.&lt;/p&gt;\n\n&lt;ol&gt;\n&lt;li&gt;Is there something I'm missing here?&lt;/li&gt;\n&lt;li&gt;Is there an easy fix for this besides the &lt;em&gt;pixel-based width&lt;/em&gt; on the\nchild?&lt;/li&gt;\n&lt;li&gt;Is there an area of the CSS specification that covers this?&lt;/li&gt;\n&lt;/ol&gt;\n</td><td>NULL</td><td>0</td><td>NULL</td><td>2008-07-31 22:08:08.620</td><td>10</td><td>2016-03-19 06:10:52.170</td><td>2016-03-19 06:05:48.487</td><td>Rich B</td><td>63550</td><td>9</td><td>0</td><td>1</td><td>256</td><td>&lt;html&gt;&lt;css&gt;&lt;css3&gt;&lt;internet-explorer-7&gt;</td><td>Percentage width child element in absolutely positioned parent on Internet Explorer 7</td><td>16306</td></tr><tr><td>7</td><td>0</td><td>0</td><td>&lt;p&gt;An explicit cast to double like this isn't necessary:&lt;/p&gt;\n\n&lt;pre&gt;&lt;code&gt;double trans = (double) trackBar1.Value / 5000.0;\n&lt;/code&gt;&lt;/pre&gt;\n\n&lt;p&gt;Identifying the constant as &lt;code&gt;5000.0&lt;/code&gt; (or as &lt;code&gt;5000d&lt;/code&gt;) is sufficient:&lt;/p&gt;\n\n&lt;pre&gt;&lt;code&gt;double trans = trackBar1.Value / 5000.0;\ndouble trans = trackBar1.Value / 5000d;\n&lt;/code&gt;&lt;/pre&gt;\n</td><td>NULL</td><td>0</td><td>NULL</td><td>2008-07-31 22:17:57.883</td><td>0</td><td>2017-12-16 05:06:57.613</td><td>2017-12-16 05:06:57.613</td><td>NULL</td><td>4020527</td><td>9</td><td>4</td><td>2</td><td>401</td><td>NULL</td><td>NULL</td><td>0</td></tr><tr><td>9</td><td>1404</td><td>64</td><td>&lt;p&gt;Given a &lt;code&gt;DateTime&lt;/code&gt; representing a person's birthday, how do I calculate their age in years?  &lt;/p&gt;\n</td><td>NULL</td><td>7</td><td>2011-08-16 19:40:43.080</td><td>2008-07-31 23:40:59.743</td><td>399</td><td>2018-07-25 11:57:14.110</td><td>2018-04-21 17:48:14.477</td><td>Rich B</td><td>3956566</td><td>1</td><td>0</td><td>1</td><td>1743</td><td>&lt;c#&gt;&lt;.net&gt;&lt;datetime&gt;</td><td>How do I calculate someone's age in C#?</td><td>480476</td></tr><tr><td>11</td><td>1248</td><td>35</td><td>&lt;p&gt;Given a specific &lt;code&gt;DateTime&lt;/code&gt; value, how do I display relative time, like:&lt;/p&gt;\n\n&lt;ul&gt;\n&lt;li&gt;2 hours ago&lt;/li&gt;\n&lt;li&gt;3 days ago&lt;/li&gt;\n&lt;li&gt;a month ago&lt;/li&gt;\n&lt;/ul&gt;\n</td><td>NULL</td><td>3</td><td>2009-09-04 13:15:59.820</td><td>2008-07-31 23:55:37.967</td><td>529</td><td>2018-07-05 04:00:56.633</td><td>2017-06-04 15:51:19.780</td><td>user2370523</td><td>6479704</td><td>1</td><td>0</td><td>1</td><td>1348</td><td>&lt;c#&gt;&lt;datetime&gt;&lt;time&gt;&lt;datediff&gt;&lt;relative-time-span&gt;</td><td>Calculate relative time in C#</td><td>136033</td></tr></table>"
                    }
                }
            ],
            "execution_count": 3
        },
        {
            "cell_type": "markdown",
            "source": "LastEditorDisplayName, going on this list.\nHow about Body? This is a bit trickier; the body is in most cases a public post on a website about a technical matter. How could that be confidential?\nBut here's the rub; GDPR isn't necessarily about confidentiality. It's about taking a risk-based approach to the handling of personal data. The first thing we have to identify is whether it is personal. \n```\nPersonal data is information that relates to an identified or identifiable individual.\n\nWhat identifies an individual could be as simple as a name or a number or could include other identifiers such as an IP address or a cookie identifier, or other factors.\n```\nhttps://ico.org.uk/for-organisations/guide-to-data-protection/guide-to-the-general-data-protection-regulation-gdpr/key-definitions/what-is-personal-data/",
            "metadata": {}
        },
        {
            "cell_type": "code",
            "source": "SELECT Top(10) * FROM [StackOverflow2010].dbo.Posts where Body like '%@%';",
            "metadata": {},
            "outputs": [
                {
                    "output_type": "display_data",
                    "data": {
                        "text/html": "(10 rows affected)"
                    },
                    "metadata": {}
                },
                {
                    "output_type": "display_data",
                    "data": {
                        "text/html": "Total execution time: 00:00:00.517"
                    },
                    "metadata": {}
                },
                {
                    "output_type": "execute_result",
                    "metadata": {},
                    "execution_count": 5,
                    "data": {
                        "application/vnd.dataresource+json": {
                            "schema": {
                                "fields": [
                                    {
                                        "name": "Id"
                                    },
                                    {
                                        "name": "AcceptedAnswerId"
                                    },
                                    {
                                        "name": "AnswerCount"
                                    },
                                    {
                                        "name": "Body"
                                    },
                                    {
                                        "name": "ClosedDate"
                                    },
                                    {
                                        "name": "CommentCount"
                                    },
                                    {
                                        "name": "CommunityOwnedDate"
                                    },
                                    {
                                        "name": "CreationDate"
                                    },
                                    {
                                        "name": "FavoriteCount"
                                    },
                                    {
                                        "name": "LastActivityDate"
                                    },
                                    {
                                        "name": "LastEditDate"
                                    },
                                    {
                                        "name": "LastEditorDisplayName"
                                    },
                                    {
                                        "name": "LastEditorUserId"
                                    },
                                    {
                                        "name": "OwnerUserId"
                                    },
                                    {
                                        "name": "ParentId"
                                    },
                                    {
                                        "name": "PostTypeId"
                                    },
                                    {
                                        "name": "Score"
                                    },
                                    {
                                        "name": "Tags"
                                    },
                                    {
                                        "name": "Title"
                                    },
                                    {
                                        "name": "ViewCount"
                                    }
                                ]
                            },
                            "data": [
                                {
                                    "0": "18",
                                    "1": "0",
                                    "2": "0",
                                    "3": "<p>For a table like this:</p>\n\n<pre><code>CREATE TABLE binary_data (\n    id INT(4) NOT NULL AUTO_INCREMENT PRIMARY KEY,\n    description CHAR(50),\n    bin_data LONGBLOB,\n    filename CHAR(50),\n    filesize CHAR(50),\n    filetype CHAR(50)\n);\n</code></pre>\n\n<p>Here is a PHP example:</p>\n\n<pre><code>&lt;?php\n    // store.php3 - by Florian Dittmer &lt;dittmer@gmx.net&gt;\n    // Example php script to demonstrate the storing of binary files into\n    // an sql database. More information can be found at http://www.phpbuilder.com/\n?&gt;\n\n&lt;html&gt;\n    &lt;head&gt;&lt;title&gt;Store binary data into SQL Database&lt;/title&gt;&lt;/head&gt;\n\n    &lt;body&gt;\n        &lt;?php\n            // Code that will be executed if the form has been submitted:\n\n            if ($submit) {\n                // Connect to the database (you may have to adjust\n                // the hostname, username or password).\n\n                mysql_connect(\"localhost\", \"root\", \"password\");\n                mysql_select_db(\"binary_data\");\n\n                $data = mysql_real_escape_string(fread(fopen($form_data, \"r\"), filesize($form_data)));\n\n                $result = mysql_query(\"INSERT INTO binary_data (description, bin_data, filename, filesize, filetype) \".\n                                    \"VALUES ('$form_description', '$data', '$form_data_name', '$form_data_size', '$form_data_type')\");\n\n                $id= mysql_insert_id();\n                print \"&lt;p&gt;This file has the following Database ID: &lt;b&gt;$id&lt;/b&gt;\";\n\n                mysql_close();\n            } else {\n\n                // else show the form to submit new data:\n        ?&gt;\n        &lt;form method=\"post\" action=\"&lt;?php echo $PHP_SELF; ?&gt;\" enctype=\"multipart/form-data\"&gt;\n            File Description:&lt;br&gt;\n            &lt;input type=\"text\" name=\"form_description\"  size=\"40\"&gt;\n            &lt;input type=\"hidden\" name=\"MAX_FILE_SIZE\" value=\"1000000\"&gt;\n            &lt;br&gt;File to upload/store in database:&lt;br&gt;\n            &lt;input type=\"file\" name=\"form_data\"  size=\"40\"&gt;\n            &lt;p&gt;&lt;input type=\"submit\" name=\"submit\" value=\"submit\"&gt;\n        &lt;/form&gt;\n\n        &lt;?php\n            }\n        ?&gt;\n    &lt;/body&gt;\n&lt;/html&gt;\n</code></pre>\n",
                                    "4": "NULL",
                                    "5": "2",
                                    "6": "NULL",
                                    "7": "2008-08-01 05:12:44.193",
                                    "8": "0",
                                    "9": "2016-06-02 05:56:26.060",
                                    "10": "2016-06-02 05:56:26.060",
                                    "11": "Jeff Atwood",
                                    "12": "126039",
                                    "13": "0",
                                    "14": "17",
                                    "15": "2",
                                    "16": "56",
                                    "17": "NULL",
                                    "18": "NULL",
                                    "19": "0"
                                },
                                {
                                    "0": "27",
                                    "1": "0",
                                    "2": "0",
                                    "3": "<p>@jeff</p>\n\n<p>IMHO yours seems a little long.  However it does seem a little more robust with support for \"yesterday\" and \"years\".  But in my experience when this is used the person is most likely to view the content in the first 30 days.  It is only the really hardcore people that come after that.  So that is why I usually elect to keep this short and simple.</p>\n\n<p>This is the method I am currently using on one of my websites.  This only returns a relative day, hour, time.  And then the user has to slap on \"ago\" in the output.</p>\n\n<pre><code>public static string ToLongString(this TimeSpan time)\n{\n    string output = String.Empty;\n\n    if (time.Days &gt; 0)\n        output += time.Days + \" days \";\n\n    if ((time.Days == 0 || time.Days == 1) &amp;&amp; time.Hours &gt; 0)\n        output += time.Hours + \" hr \";\n\n    if (time.Days == 0 &amp;&amp; time.Minutes &gt; 0)\n        output += time.Minutes + \" min \";\n\n    if (output.Length == 0)\n        output += time.Seconds + \" sec\";\n\n    return output.Trim();\n}\n</code></pre>\n",
                                    "4": "NULL",
                                    "5": "0",
                                    "6": "2009-09-04 13:15:59.820",
                                    "7": "2008-08-01 12:17:19.357",
                                    "8": "0",
                                    "9": "2008-08-01 13:16:49.127",
                                    "10": "2008-08-01 13:16:49.127",
                                    "11": "Nick Berardi",
                                    "12": "17",
                                    "13": "17",
                                    "14": "11",
                                    "15": "2",
                                    "16": "29",
                                    "17": "NULL",
                                    "18": "NULL",
                                    "19": "0"
                                },
                                {
                                    "0": "73",
                                    "1": "0",
                                    "2": "0",
                                    "3": "<p>@Jax: The <code>extern \"C\"</code> thing matters, very very much. If a header file doesn't have one, then (unless it's a C++-only header file), you would have to enclose your <code>#include</code> with it:</p>\n\n<pre><code>extern \"C\" {\n#include &lt;sys/socket.h&gt;\n// include other similarly non-compliant header files\n}\n</code></pre>\n\n<p>Basically, anytime where a C++ program wants to link to C-based facilities, the <code>extern \"C\"</code> is vital. In practical terms, it means that the names used in external references will not be mangled, like normal C++ names would. <a href=\"http://www.parashift.com/c++-faq-lite/mixing-c-and-cpp.html\" rel=\"noreferrer\">Reference.</a></p>\n",
                                    "4": "NULL",
                                    "5": "0",
                                    "6": "NULL",
                                    "7": "2008-08-01 13:40:16.443",
                                    "8": "0",
                                    "9": "2008-08-01 13:54:25.510",
                                    "10": "2008-08-01 13:54:25.510",
                                    "11": "Chris Jester-Young",
                                    "12": "13",
                                    "13": "13",
                                    "14": "25",
                                    "15": "2",
                                    "16": "18",
                                    "17": "NULL",
                                    "18": "NULL",
                                    "19": "0"
                                },
                                {
                                    "0": "109",
                                    "1": "2585",
                                    "2": "2",
                                    "3": "<p>Recently our site has been deluged with the resurgence of the <a href=\"https://en.wikipedia.org/wiki/Asprox_botnet\" rel=\"noreferrer\">Asprox botnet</a> <a href=\"http://en.wikipedia.org/wiki/SQL_injection\" rel=\"noreferrer\">SQL injection</a> attack. Without going into details, the attack attempts to execute SQL code by encoding the <a href=\"http://en.wikipedia.org/wiki/Transact-SQL\" rel=\"noreferrer\">T-SQL</a> commands in an ASCII encoded BINARY string. It looks something like this:</p>\n\n<pre><code>DECLARE%20@S%20NVARCHAR(4000);SET%20@S=CAST(0x44004500...06F007200%20AS%20NVARCHAR(4000));EXEC(@S);--\n</code></pre>\n\n<p>I was able to decode this in SQL, but I was a little wary of doing this since I didn't know exactly what was happening at the time.</p>\n\n<p>I tried to write a simple decode tool, so I could decode this type of text without even touching <a href=\"http://en.wikipedia.org/wiki/Microsoft_SQL_Server\" rel=\"noreferrer\">SQL&nbsp;Server</a>. The main part I need decoded is:</p>\n\n<pre><code>CAST(0x44004500...06F007200 AS\nNVARCHAR(4000))\n</code></pre>\n\n<p>I've tried all of the following commands with no luck:</p>\n\n<pre><code>txtDecodedText.Text =\n    System.Web.HttpUtility.UrlDecode(txtURLText.Text);\ntxtDecodedText.Text =\n    Encoding.ASCII.GetString(Encoding.ASCII.GetBytes(txtURLText.Text));\ntxtDecodedText.Text =\n    Encoding.Unicode.GetString(Encoding.Unicode.GetBytes(txtURLText.Text));\ntxtDecodedText.Text =\n    Encoding.ASCII.GetString(Encoding.Unicode.GetBytes(txtURLText.Text));\ntxtDecodedText.Text =\n    Encoding.Unicode.GetString(Convert.FromBase64String(txtURLText.Text));\n</code></pre>\n\n<p>What is the proper way to translate this encoding without using SQL Server? Is it possible? I'll take VB.NET code since I'm familiar with that too.</p>\n\n<hr>\n\n<p>Okay, I'm sure I'm missing something here, so here's where I'm at.</p>\n\n<p>Since my input is a basic string, I started with just a snippet of the encoded portion - 4445434C41 (which translates to DECLA) - and the first attempt was to do this...</p>\n\n<pre><code>txtDecodedText.Text = Encoding.UTF8.GetString(Encoding.UTF8.GetBytes(txtURL.Text));\n</code></pre>\n\n<p>...and all it did was return the exact same thing that I put in, since it converted each character into is byte.</p>\n\n<p>I realized that I need to parse each two characters into a byte manually since I don't know of any methods yet that will do that, so now my little decoder looks something like this:</p>\n\n<pre><code>while (!boolIsDone)\n{\n    bytURLChar = byte.Parse(txtURLText.Text.Substring(intParseIndex, 2));\n    bytURL[intURLIndex] = bytURLChar;\n    intParseIndex += 2;\n    intURLIndex++;\n\n    if (txtURLText.Text.Length - intParseIndex &lt; 2)\n    {\n        boolIsDone = true;\n    }\n}\n\ntxtDecodedText.Text = Encoding.UTF8.GetString(bytURL);\n</code></pre>\n\n<p>Things look good for the first couple of pairs, but then the loop balks when it gets to the \"4C\" pair and says that the string is in the incorrect format.</p>\n\n<p>Interestingly enough, when I step through the debugger and to the GetString method on the byte array that I was able to parse up to that point, I get \",-+\" as the result.</p>\n\n<p>How do I figure out what I'm missing - do I need to do a \"direct cast\" for each byte instead of attempting to parse it?</p>\n",
                                    "4": "NULL",
                                    "5": "3",
                                    "6": "NULL",
                                    "7": "2008-08-01 15:23:05.190",
                                    "8": "0",
                                    "9": "2015-01-08 17:02:44.503",
                                    "10": "2015-01-08 16:27:49.863",
                                    "11": "Jeff Atwood",
                                    "12": "63550",
                                    "13": "71",
                                    "14": "0",
                                    "15": "1",
                                    "16": "51",
                                    "17": "<c#><sql><vb.net><ascii><hex>",
                                    "18": "Decoding T-SQL CAST in C#/VB.NET",
                                    "19": "4581"
                                },
                                {
                                    "0": "166",
                                    "1": "0",
                                    "2": "0",
                                    "3": "<p>You can do it by adding the following anywhere in your code </p>\n\n<pre><code>$Id:$\n</code></pre>\n\n<p>So for example @Jeff did:</p>\n\n<pre><code>&lt;div id=\"svnrevision\"&gt;svn revision: $Id:$&lt;/div&gt;\n</code></pre>\n\n<p>and when checked in the server replaced $Id:$ with the current revision number.  I also <a href=\"http://www.compuphase.com/svnrev.htm\" rel=\"nofollow noreferrer\">found this reference</a>.</p>\n\n<p>There is also <strong>$Date:$</strong>, <strong>$Rev:$</strong>, <strong>$Revision:$</strong></p>\n",
                                    "4": "NULL",
                                    "5": "7",
                                    "6": "NULL",
                                    "7": "2008-08-01 18:08:16.590",
                                    "8": "0",
                                    "9": "2015-12-29 06:29:47.283",
                                    "10": "2015-12-29 06:29:47.283",
                                    "11": "NULL",
                                    "12": "3787519",
                                    "13": "17",
                                    "14": "163",
                                    "15": "2",
                                    "16": "25",
                                    "17": "NULL",
                                    "18": "NULL",
                                    "19": "0"
                                },
                                {
                                    "0": "274",
                                    "1": "0",
                                    "2": "0",
                                    "3": "<p>@Ryan</p>\n\n<p>That's correct but it actually makes the tags with the least number, larger.  This code has been tested:</p>\n\n<pre><code>$artist = array(\"the roots\",\"michael jackson\",\"billy idol\",\"more\",\"and more\",\"and_YET_MORE\");\n$count = array(5,3,9,1,1,3);\n$highest = max($count);\nfor ($x = 0; $x &lt; count($artist); $x++) {\n    $normalized =  ($highest - $count[$x]+1) / $highest;\n    $heading = ceil($normalized * 6); // 6 heading types\n    echo \"&lt;h$heading&gt;{$artist[$x]}&lt;/h$heading&gt;\";\n}\n</code></pre>\n",
                                    "4": "NULL",
                                    "5": "0",
                                    "6": "NULL",
                                    "7": "2008-08-01 23:58:35.650",
                                    "8": "0",
                                    "9": "2008-08-01 23:58:35.650",
                                    "10": "NULL",
                                    "11": "NULL",
                                    "12": "0",
                                    "13": "40",
                                    "14": "227",
                                    "15": "2",
                                    "16": "7",
                                    "17": "NULL",
                                    "18": "NULL",
                                    "19": "0"
                                },
                                {
                                    "0": "396",
                                    "1": "0",
                                    "2": "0",
                                    "3": "<p>Use email authentication methods, such as <a href=\"http://en.wikipedia.org/wiki/Sender_Policy_Framework\" rel=\"noreferrer\">SPF</a>, and <a href=\"https://help.ubuntu.com/community/Postfix/DKIM\" rel=\"noreferrer\">DKIM</a> to prove that your emails and your domain name belong together, and to prevent spoofing of your domain name. The SPF website includes a wizard to generate the DNS information for your site.</p>\n\n<p><a href=\"http://remote.12dt.com/\" rel=\"noreferrer\">Check</a> your <a href=\"http://en.wikipedia.org/wiki/Reverse_DNS_lookup\" rel=\"noreferrer\">reverse DNS</a> to make sure the IP address of your mail server points to the domain name that you use for sending mail.</p>\n\n<p>Make sure that the IP-address that you're using is <a href=\"http://www.spamhaus.org/lookup.lasso\" rel=\"noreferrer\">not on a blacklist</a></p>\n\n<p>Make sure that the reply-to address is a valid, existing address.</p>\n\n<p>Use the full, real name of the addressee in the To field, not just the email-address (e.g. <code>\"John Smith\" &lt;john@blacksmiths-international.com&gt;</code> ).</p>\n\n<p>Monitor your abuse accounts, such as abuse@yourdomain.com and postmaster@yourdomain.com. That means - make sure that these accounts exist, read what's sent to them, and act on complaints.</p>\n\n<p>Finally, make it <strong>really</strong> easy to unsubscribe. Otherwise, your users will unsubscribe by pressing the <strong>spam</strong> button, and that will affect your reputation.</p>\n\n<p>That said, getting Hotmail to accept your emails remains a black art.</p>\n",
                                    "4": "NULL",
                                    "5": "7",
                                    "6": "NULL",
                                    "7": "2008-08-02 10:21:54.300",
                                    "8": "0",
                                    "9": "2017-04-20 16:28:04.430",
                                    "10": "2017-04-20 16:28:04.430",
                                    "11": "Paul Tomblin",
                                    "12": "246246",
                                    "13": "136",
                                    "14": "371",
                                    "15": "2",
                                    "16": "323",
                                    "17": "NULL",
                                    "18": "NULL",
                                    "19": "0"
                                },
                                {
                                    "0": "555",
                                    "1": "0",
                                    "2": "0",
                                    "3": "<h1>Definitive Article</h1>\n\n<h3>Sending credentials</h3>\n\n<p>The only practical way to send credentials 100% securely is by using <a href=\"http://en.wikipedia.org/wiki/SSL\" rel=\"noreferrer\">SSL</a>. Using JavaScript to hash the password is not safe. Common pitfalls for client-side password hashing:</p>\n\n<ul>\n<li>If the connection between the client and server is unencrypted, everything you do is <a href=\"https://stackoverflow.com/questions/14907581/ssl-and-man-in-the-middle-misunderstanding\">vulnerable to man-in-the-middle attacks</a>. An attacker could replace the incoming javascript to break the hashing or send all credentials to their server, they could listen to client responses and impersonate the users perfectly, etc. etc. SSL with trusted Certificate Authorities is designed to prevent MitM attacks.</li>\n<li>The hashed password received by the server is <a href=\"https://security.stackexchange.com/questions/45254/owasp-recommendation-on-client-side-password-hashing\">less secure</a> if you don't do additional, redundant work on the server.</li>\n</ul>\n\n<p>There's another secure method called <strong>SRP</strong>, but it's patented (although it is <a href=\"http://srp.stanford.edu/license.txt\" rel=\"noreferrer\">freely licensed</a>) and there are few good implementations available.</p>\n\n<h3>Storing passwords</h3>\n\n<p>Don't ever store passwords as plaintext in the database. Not even if you don't care about the security of your own site. Assume that some of your users will reuse the password of their online bank account. So, store the hashed password, and throw away the original. And make sure the password doesn't show up in access logs or application logs. OWASP <a href=\"https://www.owasp.org/index.php/Password_Storage_Cheat_Sheet#Impose_infeasible_verification_on_attacker\" rel=\"noreferrer\">recommends the use of Argon2</a> as your first choice for new applications. If this is not available, PBKDF2 or scrypt should be used instead. And finally if none of the above are available, use bcrypt.</p>\n\n<p>Hashes by themselves are also insecure. For instance, identical passwords mean identical hashes--this makes hash lookup tables an effective way of cracking lots of passwords at once. Instead, store the <strong>salted</strong> hash. A salt is a string appended to the password prior to hashing - use a different (random) salt per user. The salt is a public value, so you can store them with the hash in the database. See <a href=\"http://www.codeproject.com/Articles/704865/Salted-Password-Hashing-Doing-it-Right\" rel=\"noreferrer\">here</a> for more on this.</p>\n\n<p>This means that you can't send the user their forgotten passwords (because you only have the hash). Don't reset the user's password unless you have authenticated the user (users must prove that they are able to read emails sent to the stored (and validated) email address.)</p>\n\n<h3>Security questions</h3>\n\n<p>Security questions are insecure - avoid using them. Why? Anything a security question does, a password does better. Read <strong><em>PART III: Using Secret Questions</em></strong> in <a href=\"http://srp.stanford.edu/license.txt\" rel=\"noreferrer\">@Jens Roland answer</a> here in this wiki.</p>\n\n<h3>Session cookies</h3>\n\n<p>After the user logs in, the server sends the user a session cookie. The server can retrieve the username or id from the cookie, but nobody else can generate such a cookie (TODO explain mechanisms).</p>\n\n<p><a href=\"http://en.wikipedia.org/wiki/Session_hijacking\" rel=\"noreferrer\">Cookies can be hijacked</a>: they are only as secure as the rest of the client's machine and other communications. They can be read from disk, sniffed in network traffic, lifted by a cross-site scripting attack, phished from a poisoned DNS so the client sends their cookies to the wrong servers. Don't send persistent cookies. Cookies should expire at the end of the client session (browser close or leaving your domain).</p>\n\n<p>If you want to autologin your users, you can set a persistent cookie, but it should be distinct from a full-session cookie. You can set an additional flag that the user has auto-logged in, and needs to login for real for sensitive operations. This is popular with shopping sites that want to provide you with a seamless, personalized shopping experience but still protect your financial details. For example, when you return to visit Amazon, they show you a page that looks like you're logged in, but when you go to place an order (or change your shipping address, credit card etc.), they ask you to confirm your password.</p>\n\n<p>Financial web sites such as banks and credit cards, on the other hand, only have sensitive data and should not allow auto-login or a low-security mode.</p>\n\n<h3>List of external resources</h3>\n\n<ul>\n<li><a href=\"http://pdos.csail.mit.edu/papers/webauth:sec10.pdf\" rel=\"noreferrer\">Dos and Don'ts of Client Authentication on the Web (PDF)</a><br>\n21 page academic article with many great tips.  </li>\n<li><a href=\"http://news.ycombinator.com/item?id=205572\" rel=\"noreferrer\">Ask YC: Best Practices for User Authentication</a><br>\nForum discussion on the subject  </li>\n<li><a href=\"http://www.codinghorror.com/blog/archives/000953.html\" rel=\"noreferrer\">You're Probably Storing Passwords Incorrectly</a><br>\nIntroductory article about storing passwords</li>\n<li><a href=\"http://news.ycombinator.com/item?id=55660\" rel=\"noreferrer\">Discussion: Coding Horror: You're Probably Storing Passwords Incorrectly</a><br>\nForum discussion about a Coding Horror article.</li>\n<li>Never store passwords in a database!<br>\nAnother warning about storing passwords in the database.</li>\n<li><a href=\"http://en.wikipedia.org/wiki/Password_cracking\" rel=\"noreferrer\">Password cracking</a><br>\nWikipedia article on weaknesses of several password hashing schemes.</li>\n<li><a href=\"http://www.securityfocus.com/blogs/262\" rel=\"noreferrer\">Enough With The Rainbow Tables: What You Need To Know About Secure Password Schemes</a><br>\nDiscussion about rainbow tables and how to defend against them, and against other threads. Includes extensive discussion.</li>\n</ul>\n",
                                    "4": "NULL",
                                    "5": "5",
                                    "6": "2008-10-01 00:39:41.137",
                                    "7": "2008-08-02 20:40:45.533",
                                    "8": "0",
                                    "9": "2018-03-07 06:35:31.907",
                                    "10": "2018-03-07 06:35:31.907",
                                    "11": "hasen j",
                                    "12": "811240",
                                    "13": "136",
                                    "14": "549",
                                    "15": "2",
                                    "16": "390",
                                    "17": "NULL",
                                    "18": "NULL",
                                    "19": "0"
                                },
                                {
                                    "0": "629",
                                    "1": "0",
                                    "2": "0",
                                    "3": "<p>I found <a href=\"http://raulparolari.com/Ruby2/lambda_Proc\" rel=\"nofollow noreferrer\">this page</a> which shows what the difference between <code>Proc.new</code> and <code>lambda</code> are.  According to the page, the only difference is that a lambda is strict about the number of arguments it accepts, whereas <code>Proc.new</code> converts missing arguments to <code>nil</code>.  Here is an example IRB session illustrating the difference:</p>\n\n<pre>irb(main):001:0> l = lambda { |x, y| x + y }\n=> #&lt;Proc:0x00007fc605ec0748@(irb):1&gt;\nirb(main):002:0> p = Proc.new { |x, y| x + y }\n=> #&lt;Proc:0x00007fc605ea8698@(irb):2&gt;\nirb(main):003:0> l.call \"hello\", \"world\"\n=> \"helloworld\"\nirb(main):004:0> p.call \"hello\", \"world\"\n=> \"helloworld\"\nirb(main):005:0> l.call \"hello\"\nArgumentError: wrong number of arguments (1 for 2)\n    from (irb):1\n    from (irb):5:in `call'\n    from (irb):5\n    from :0\nirb(main):006:0> p.call \"hello\"\nTypeError: can't convert nil into String\n    from (irb):2:in `+'\n    from (irb):2\n    from (irb):6:in `call'\n    from (irb):6\n    from :0</pre>\n\n<p>The page also recommends using lambda unless you specifically want the error tolerant behavior.  I agree with this sentiment.  Using a lambda seems a tad more concise, and with such an insignificant difference, it seems the better choice in the average situation.</p>\n\n<p>As for Ruby 1.9, sorry, I haven't looked into 1.9 yet, but I don't imagine they would change it all that much (don't take my word for it though, it seems you have heard of some changes, so I am probably wrong there).</p>\n",
                                    "4": "NULL",
                                    "5": "2",
                                    "6": "NULL",
                                    "7": "2008-08-03 07:28:54.070",
                                    "8": "0",
                                    "9": "2016-10-21 18:36:33.597",
                                    "10": "2016-10-21 18:36:33.597",
                                    "11": "NULL",
                                    "12": "3257186",
                                    "13": "122",
                                    "14": "626",
                                    "15": "2",
                                    "16": "41",
                                    "17": "NULL",
                                    "18": "NULL",
                                    "19": "0"
                                },
                                {
                                    "0": "655",
                                    "1": "0",
                                    "2": "0",
                                    "3": "<p>With the \"Built in\" stuff, you can't, as using 1.0.* or 1.0.0.* will replace the revision and build numbers with a coded date/timestamp, which is usually also a good way. </p>\n\n<p>For more info, see the <a href=\"http://msdn2.microsoft.com/en-us/library/c405shex(vs.80).aspx\" rel=\"noreferrer\">Assembly Linker</a> Documentation in the /v tag.</p>\n\n<p>As for automatically incrementing numbers, use the AssemblyInfo Task:</p>\n\n<p><a href=\"http://code.msdn.microsoft.com/AssemblyInfoTaskvers\" rel=\"noreferrer\">AssemblyInfo Task</a></p>\n\n<p>This can be configured to automatically increment the build number.</p>\n\n<p>There are 2 Gotchas:</p>\n\n<ol>\n<li>Each of the 4 numbers in the Version string is limited to 65535. This is a Windows Limitation and unlikely to get fixed.\n\n<ul>\n<li><a href=\"http://blogs.msdn.com/msbuild/archive/2007/01/03/why-are-build-numbers-limited-to-65535.aspx\" rel=\"noreferrer\">Why are build numbers limited to 65535?</a></li>\n</ul></li>\n<li>Using with with Subversion requires a small change:\n\n<ul>\n<li><a href=\"http://www.andrewconnell.com/blog/archive/2006/08/29/4078.aspx\" rel=\"noreferrer\">Using MSBuild to generate assembly version info at build time (including SubVersion fix)</a></li>\n</ul></li>\n</ol>\n\n<p>Retrieving the Version number is then quite easy:</p>\n\n<pre><code>Version v = Assembly.GetExecutingAssembly().GetName().Version;\nstring About = string.Format(CultureInfo.InvariantCulture, @\"YourApp Version {0}.{1}.{2} (r{3})\", v.Major, v.Minor, v.Build, v.Revision);\n</code></pre>\n\n<hr>\n\n<p>And, to clarify: In .net or at least in C#, the build is actually the THIRD number, not the fourth one as some people (for example Delphi Developers who are used to Major.Minor.Release.Build) might expect.</p>\n\n<p>In .net, it's Major.Minor.Build.Revision.</p>\n",
                                    "4": "NULL",
                                    "5": "6",
                                    "6": "NULL",
                                    "7": "2008-08-03 11:41:38.490",
                                    "8": "0",
                                    "9": "2013-01-28 04:10:16.497",
                                    "10": "2013-01-28 04:10:16.497",
                                    "11": "user1873471",
                                    "12": "0",
                                    "13": "91",
                                    "14": "650",
                                    "15": "2",
                                    "16": "87",
                                    "17": "NULL",
                                    "18": "NULL",
                                    "19": "0"
                                }
                            ]
                        },
                        "text/html": "<table><tr><th>Id</th><th>AcceptedAnswerId</th><th>AnswerCount</th><th>Body</th><th>ClosedDate</th><th>CommentCount</th><th>CommunityOwnedDate</th><th>CreationDate</th><th>FavoriteCount</th><th>LastActivityDate</th><th>LastEditDate</th><th>LastEditorDisplayName</th><th>LastEditorUserId</th><th>OwnerUserId</th><th>ParentId</th><th>PostTypeId</th><th>Score</th><th>Tags</th><th>Title</th><th>ViewCount</th></tr><tr><td>18</td><td>0</td><td>0</td><td>&lt;p&gt;For a table like this:&lt;/p&gt;\n\n&lt;pre&gt;&lt;code&gt;CREATE TABLE binary_data (\n    id INT(4) NOT NULL AUTO_INCREMENT PRIMARY KEY,\n    description CHAR(50),\n    bin_data LONGBLOB,\n    filename CHAR(50),\n    filesize CHAR(50),\n    filetype CHAR(50)\n);\n&lt;/code&gt;&lt;/pre&gt;\n\n&lt;p&gt;Here is a PHP example:&lt;/p&gt;\n\n&lt;pre&gt;&lt;code&gt;&amp;lt;?php\n    // store.php3 - by Florian Dittmer &amp;lt;dittmer@gmx.net&amp;gt;\n    // Example php script to demonstrate the storing of binary files into\n    // an sql database. More information can be found at http://www.phpbuilder.com/\n?&amp;gt;\n\n&amp;lt;html&amp;gt;\n    &amp;lt;head&amp;gt;&amp;lt;title&amp;gt;Store binary data into SQL Database&amp;lt;/title&amp;gt;&amp;lt;/head&amp;gt;\n\n    &amp;lt;body&amp;gt;\n        &amp;lt;?php\n            // Code that will be executed if the form has been submitted:\n\n            if ($submit) {\n                // Connect to the database (you may have to adjust\n                // the hostname, username or password).\n\n                mysql_connect(&quot;localhost&quot;, &quot;root&quot;, &quot;password&quot;);\n                mysql_select_db(&quot;binary_data&quot;);\n\n                $data = mysql_real_escape_string(fread(fopen($form_data, &quot;r&quot;), filesize($form_data)));\n\n                $result = mysql_query(&quot;INSERT INTO binary_data (description, bin_data, filename, filesize, filetype) &quot;.\n                                    &quot;VALUES ('$form_description', '$data', '$form_data_name', '$form_data_size', '$form_data_type')&quot;);\n\n                $id= mysql_insert_id();\n                print &quot;&amp;lt;p&amp;gt;This file has the following Database ID: &amp;lt;b&amp;gt;$id&amp;lt;/b&amp;gt;&quot;;\n\n                mysql_close();\n            } else {\n\n                // else show the form to submit new data:\n        ?&amp;gt;\n        &amp;lt;form method=&quot;post&quot; action=&quot;&amp;lt;?php echo $PHP_SELF; ?&amp;gt;&quot; enctype=&quot;multipart/form-data&quot;&amp;gt;\n            File Description:&amp;lt;br&amp;gt;\n            &amp;lt;input type=&quot;text&quot; name=&quot;form_description&quot;  size=&quot;40&quot;&amp;gt;\n            &amp;lt;input type=&quot;hidden&quot; name=&quot;MAX_FILE_SIZE&quot; value=&quot;1000000&quot;&amp;gt;\n            &amp;lt;br&amp;gt;File to upload/store in database:&amp;lt;br&amp;gt;\n            &amp;lt;input type=&quot;file&quot; name=&quot;form_data&quot;  size=&quot;40&quot;&amp;gt;\n            &amp;lt;p&amp;gt;&amp;lt;input type=&quot;submit&quot; name=&quot;submit&quot; value=&quot;submit&quot;&amp;gt;\n        &amp;lt;/form&amp;gt;\n\n        &amp;lt;?php\n            }\n        ?&amp;gt;\n    &amp;lt;/body&amp;gt;\n&amp;lt;/html&amp;gt;\n&lt;/code&gt;&lt;/pre&gt;\n</td><td>NULL</td><td>2</td><td>NULL</td><td>2008-08-01 05:12:44.193</td><td>0</td><td>2016-06-02 05:56:26.060</td><td>2016-06-02 05:56:26.060</td><td>Jeff Atwood</td><td>126039</td><td>0</td><td>17</td><td>2</td><td>56</td><td>NULL</td><td>NULL</td><td>0</td></tr><tr><td>27</td><td>0</td><td>0</td><td>&lt;p&gt;@jeff&lt;/p&gt;\n\n&lt;p&gt;IMHO yours seems a little long.  However it does seem a little more robust with support for &quot;yesterday&quot; and &quot;years&quot;.  But in my experience when this is used the person is most likely to view the content in the first 30 days.  It is only the really hardcore people that come after that.  So that is why I usually elect to keep this short and simple.&lt;/p&gt;\n\n&lt;p&gt;This is the method I am currently using on one of my websites.  This only returns a relative day, hour, time.  And then the user has to slap on &quot;ago&quot; in the output.&lt;/p&gt;\n\n&lt;pre&gt;&lt;code&gt;public static string ToLongString(this TimeSpan time)\n{\n    string output = String.Empty;\n\n    if (time.Days &amp;gt; 0)\n        output += time.Days + &quot; days &quot;;\n\n    if ((time.Days == 0 || time.Days == 1) &amp;amp;&amp;amp; time.Hours &amp;gt; 0)\n        output += time.Hours + &quot; hr &quot;;\n\n    if (time.Days == 0 &amp;amp;&amp;amp; time.Minutes &amp;gt; 0)\n        output += time.Minutes + &quot; min &quot;;\n\n    if (output.Length == 0)\n        output += time.Seconds + &quot; sec&quot;;\n\n    return output.Trim();\n}\n&lt;/code&gt;&lt;/pre&gt;\n</td><td>NULL</td><td>0</td><td>2009-09-04 13:15:59.820</td><td>2008-08-01 12:17:19.357</td><td>0</td><td>2008-08-01 13:16:49.127</td><td>2008-08-01 13:16:49.127</td><td>Nick Berardi</td><td>17</td><td>17</td><td>11</td><td>2</td><td>29</td><td>NULL</td><td>NULL</td><td>0</td></tr><tr><td>73</td><td>0</td><td>0</td><td>&lt;p&gt;@Jax: The &lt;code&gt;extern &quot;C&quot;&lt;/code&gt; thing matters, very very much. If a header file doesn't have one, then (unless it's a C++-only header file), you would have to enclose your &lt;code&gt;#include&lt;/code&gt; with it:&lt;/p&gt;\n\n&lt;pre&gt;&lt;code&gt;extern &quot;C&quot; {\n#include &amp;lt;sys/socket.h&amp;gt;\n// include other similarly non-compliant header files\n}\n&lt;/code&gt;&lt;/pre&gt;\n\n&lt;p&gt;Basically, anytime where a C++ program wants to link to C-based facilities, the &lt;code&gt;extern &quot;C&quot;&lt;/code&gt; is vital. In practical terms, it means that the names used in external references will not be mangled, like normal C++ names would. &lt;a href=&quot;http://www.parashift.com/c++-faq-lite/mixing-c-and-cpp.html&quot; rel=&quot;noreferrer&quot;&gt;Reference.&lt;/a&gt;&lt;/p&gt;\n</td><td>NULL</td><td>0</td><td>NULL</td><td>2008-08-01 13:40:16.443</td><td>0</td><td>2008-08-01 13:54:25.510</td><td>2008-08-01 13:54:25.510</td><td>Chris Jester-Young</td><td>13</td><td>13</td><td>25</td><td>2</td><td>18</td><td>NULL</td><td>NULL</td><td>0</td></tr><tr><td>109</td><td>2585</td><td>2</td><td>&lt;p&gt;Recently our site has been deluged with the resurgence of the &lt;a href=&quot;https://en.wikipedia.org/wiki/Asprox_botnet&quot; rel=&quot;noreferrer&quot;&gt;Asprox botnet&lt;/a&gt; &lt;a href=&quot;http://en.wikipedia.org/wiki/SQL_injection&quot; rel=&quot;noreferrer&quot;&gt;SQL injection&lt;/a&gt; attack. Without going into details, the attack attempts to execute SQL code by encoding the &lt;a href=&quot;http://en.wikipedia.org/wiki/Transact-SQL&quot; rel=&quot;noreferrer&quot;&gt;T-SQL&lt;/a&gt; commands in an ASCII encoded BINARY string. It looks something like this:&lt;/p&gt;\n\n&lt;pre&gt;&lt;code&gt;DECLARE%20@S%20NVARCHAR(4000);SET%20@S=CAST(0x44004500...06F007200%20AS%20NVARCHAR(4000));EXEC(@S);--\n&lt;/code&gt;&lt;/pre&gt;\n\n&lt;p&gt;I was able to decode this in SQL, but I was a little wary of doing this since I didn't know exactly what was happening at the time.&lt;/p&gt;\n\n&lt;p&gt;I tried to write a simple decode tool, so I could decode this type of text without even touching &lt;a href=&quot;http://en.wikipedia.org/wiki/Microsoft_SQL_Server&quot; rel=&quot;noreferrer&quot;&gt;SQL&amp;nbsp;Server&lt;/a&gt;. The main part I need decoded is:&lt;/p&gt;\n\n&lt;pre&gt;&lt;code&gt;CAST(0x44004500...06F007200 AS\nNVARCHAR(4000))\n&lt;/code&gt;&lt;/pre&gt;\n\n&lt;p&gt;I've tried all of the following commands with no luck:&lt;/p&gt;\n\n&lt;pre&gt;&lt;code&gt;txtDecodedText.Text =\n    System.Web.HttpUtility.UrlDecode(txtURLText.Text);\ntxtDecodedText.Text =\n    Encoding.ASCII.GetString(Encoding.ASCII.GetBytes(txtURLText.Text));\ntxtDecodedText.Text =\n    Encoding.Unicode.GetString(Encoding.Unicode.GetBytes(txtURLText.Text));\ntxtDecodedText.Text =\n    Encoding.ASCII.GetString(Encoding.Unicode.GetBytes(txtURLText.Text));\ntxtDecodedText.Text =\n    Encoding.Unicode.GetString(Convert.FromBase64String(txtURLText.Text));\n&lt;/code&gt;&lt;/pre&gt;\n\n&lt;p&gt;What is the proper way to translate this encoding without using SQL Server? Is it possible? I'll take VB.NET code since I'm familiar with that too.&lt;/p&gt;\n\n&lt;hr&gt;\n\n&lt;p&gt;Okay, I'm sure I'm missing something here, so here's where I'm at.&lt;/p&gt;\n\n&lt;p&gt;Since my input is a basic string, I started with just a snippet of the encoded portion - 4445434C41 (which translates to DECLA) - and the first attempt was to do this...&lt;/p&gt;\n\n&lt;pre&gt;&lt;code&gt;txtDecodedText.Text = Encoding.UTF8.GetString(Encoding.UTF8.GetBytes(txtURL.Text));\n&lt;/code&gt;&lt;/pre&gt;\n\n&lt;p&gt;...and all it did was return the exact same thing that I put in, since it converted each character into is byte.&lt;/p&gt;\n\n&lt;p&gt;I realized that I need to parse each two characters into a byte manually since I don't know of any methods yet that will do that, so now my little decoder looks something like this:&lt;/p&gt;\n\n&lt;pre&gt;&lt;code&gt;while (!boolIsDone)\n{\n    bytURLChar = byte.Parse(txtURLText.Text.Substring(intParseIndex, 2));\n    bytURL[intURLIndex] = bytURLChar;\n    intParseIndex += 2;\n    intURLIndex++;\n\n    if (txtURLText.Text.Length - intParseIndex &amp;lt; 2)\n    {\n        boolIsDone = true;\n    }\n}\n\ntxtDecodedText.Text = Encoding.UTF8.GetString(bytURL);\n&lt;/code&gt;&lt;/pre&gt;\n\n&lt;p&gt;Things look good for the first couple of pairs, but then the loop balks when it gets to the &quot;4C&quot; pair and says that the string is in the incorrect format.&lt;/p&gt;\n\n&lt;p&gt;Interestingly enough, when I step through the debugger and to the GetString method on the byte array that I was able to parse up to that point, I get &quot;,-+&quot; as the result.&lt;/p&gt;\n\n&lt;p&gt;How do I figure out what I'm missing - do I need to do a &quot;direct cast&quot; for each byte instead of attempting to parse it?&lt;/p&gt;\n</td><td>NULL</td><td>3</td><td>NULL</td><td>2008-08-01 15:23:05.190</td><td>0</td><td>2015-01-08 17:02:44.503</td><td>2015-01-08 16:27:49.863</td><td>Jeff Atwood</td><td>63550</td><td>71</td><td>0</td><td>1</td><td>51</td><td>&lt;c#&gt;&lt;sql&gt;&lt;vb.net&gt;&lt;ascii&gt;&lt;hex&gt;</td><td>Decoding T-SQL CAST in C#/VB.NET</td><td>4581</td></tr><tr><td>166</td><td>0</td><td>0</td><td>&lt;p&gt;You can do it by adding the following anywhere in your code &lt;/p&gt;\n\n&lt;pre&gt;&lt;code&gt;$Id:$\n&lt;/code&gt;&lt;/pre&gt;\n\n&lt;p&gt;So for example @Jeff did:&lt;/p&gt;\n\n&lt;pre&gt;&lt;code&gt;&amp;lt;div id=&quot;svnrevision&quot;&amp;gt;svn revision: $Id:$&amp;lt;/div&amp;gt;\n&lt;/code&gt;&lt;/pre&gt;\n\n&lt;p&gt;and when checked in the server replaced $Id:$ with the current revision number.  I also &lt;a href=&quot;http://www.compuphase.com/svnrev.htm&quot; rel=&quot;nofollow noreferrer&quot;&gt;found this reference&lt;/a&gt;.&lt;/p&gt;\n\n&lt;p&gt;There is also &lt;strong&gt;$Date:$&lt;/strong&gt;, &lt;strong&gt;$Rev:$&lt;/strong&gt;, &lt;strong&gt;$Revision:$&lt;/strong&gt;&lt;/p&gt;\n</td><td>NULL</td><td>7</td><td>NULL</td><td>2008-08-01 18:08:16.590</td><td>0</td><td>2015-12-29 06:29:47.283</td><td>2015-12-29 06:29:47.283</td><td>NULL</td><td>3787519</td><td>17</td><td>163</td><td>2</td><td>25</td><td>NULL</td><td>NULL</td><td>0</td></tr><tr><td>274</td><td>0</td><td>0</td><td>&lt;p&gt;@Ryan&lt;/p&gt;\n\n&lt;p&gt;That's correct but it actually makes the tags with the least number, larger.  This code has been tested:&lt;/p&gt;\n\n&lt;pre&gt;&lt;code&gt;$artist = array(&quot;the roots&quot;,&quot;michael jackson&quot;,&quot;billy idol&quot;,&quot;more&quot;,&quot;and more&quot;,&quot;and_YET_MORE&quot;);\n$count = array(5,3,9,1,1,3);\n$highest = max($count);\nfor ($x = 0; $x &amp;lt; count($artist); $x++) {\n    $normalized =  ($highest - $count[$x]+1) / $highest;\n    $heading = ceil($normalized * 6); // 6 heading types\n    echo &quot;&amp;lt;h$heading&amp;gt;{$artist[$x]}&amp;lt;/h$heading&amp;gt;&quot;;\n}\n&lt;/code&gt;&lt;/pre&gt;\n</td><td>NULL</td><td>0</td><td>NULL</td><td>2008-08-01 23:58:35.650</td><td>0</td><td>2008-08-01 23:58:35.650</td><td>NULL</td><td>NULL</td><td>0</td><td>40</td><td>227</td><td>2</td><td>7</td><td>NULL</td><td>NULL</td><td>0</td></tr><tr><td>396</td><td>0</td><td>0</td><td>&lt;p&gt;Use email authentication methods, such as &lt;a href=&quot;http://en.wikipedia.org/wiki/Sender_Policy_Framework&quot; rel=&quot;noreferrer&quot;&gt;SPF&lt;/a&gt;, and &lt;a href=&quot;https://help.ubuntu.com/community/Postfix/DKIM&quot; rel=&quot;noreferrer&quot;&gt;DKIM&lt;/a&gt; to prove that your emails and your domain name belong together, and to prevent spoofing of your domain name. The SPF website includes a wizard to generate the DNS information for your site.&lt;/p&gt;\n\n&lt;p&gt;&lt;a href=&quot;http://remote.12dt.com/&quot; rel=&quot;noreferrer&quot;&gt;Check&lt;/a&gt; your &lt;a href=&quot;http://en.wikipedia.org/wiki/Reverse_DNS_lookup&quot; rel=&quot;noreferrer&quot;&gt;reverse DNS&lt;/a&gt; to make sure the IP address of your mail server points to the domain name that you use for sending mail.&lt;/p&gt;\n\n&lt;p&gt;Make sure that the IP-address that you're using is &lt;a href=&quot;http://www.spamhaus.org/lookup.lasso&quot; rel=&quot;noreferrer&quot;&gt;not on a blacklist&lt;/a&gt;&lt;/p&gt;\n\n&lt;p&gt;Make sure that the reply-to address is a valid, existing address.&lt;/p&gt;\n\n&lt;p&gt;Use the full, real name of the addressee in the To field, not just the email-address (e.g. &lt;code&gt;&quot;John Smith&quot; &amp;lt;john@blacksmiths-international.com&amp;gt;&lt;/code&gt; ).&lt;/p&gt;\n\n&lt;p&gt;Monitor your abuse accounts, such as abuse@yourdomain.com and postmaster@yourdomain.com. That means - make sure that these accounts exist, read what's sent to them, and act on complaints.&lt;/p&gt;\n\n&lt;p&gt;Finally, make it &lt;strong&gt;really&lt;/strong&gt; easy to unsubscribe. Otherwise, your users will unsubscribe by pressing the &lt;strong&gt;spam&lt;/strong&gt; button, and that will affect your reputation.&lt;/p&gt;\n\n&lt;p&gt;That said, getting Hotmail to accept your emails remains a black art.&lt;/p&gt;\n</td><td>NULL</td><td>7</td><td>NULL</td><td>2008-08-02 10:21:54.300</td><td>0</td><td>2017-04-20 16:28:04.430</td><td>2017-04-20 16:28:04.430</td><td>Paul Tomblin</td><td>246246</td><td>136</td><td>371</td><td>2</td><td>323</td><td>NULL</td><td>NULL</td><td>0</td></tr><tr><td>555</td><td>0</td><td>0</td><td>&lt;h1&gt;Definitive Article&lt;/h1&gt;\n\n&lt;h3&gt;Sending credentials&lt;/h3&gt;\n\n&lt;p&gt;The only practical way to send credentials 100% securely is by using &lt;a href=&quot;http://en.wikipedia.org/wiki/SSL&quot; rel=&quot;noreferrer&quot;&gt;SSL&lt;/a&gt;. Using JavaScript to hash the password is not safe. Common pitfalls for client-side password hashing:&lt;/p&gt;\n\n&lt;ul&gt;\n&lt;li&gt;If the connection between the client and server is unencrypted, everything you do is &lt;a href=&quot;https://stackoverflow.com/questions/14907581/ssl-and-man-in-the-middle-misunderstanding&quot;&gt;vulnerable to man-in-the-middle attacks&lt;/a&gt;. An attacker could replace the incoming javascript to break the hashing or send all credentials to their server, they could listen to client responses and impersonate the users perfectly, etc. etc. SSL with trusted Certificate Authorities is designed to prevent MitM attacks.&lt;/li&gt;\n&lt;li&gt;The hashed password received by the server is &lt;a href=&quot;https://security.stackexchange.com/questions/45254/owasp-recommendation-on-client-side-password-hashing&quot;&gt;less secure&lt;/a&gt; if you don't do additional, redundant work on the server.&lt;/li&gt;\n&lt;/ul&gt;\n\n&lt;p&gt;There's another secure method called &lt;strong&gt;SRP&lt;/strong&gt;, but it's patented (although it is &lt;a href=&quot;http://srp.stanford.edu/license.txt&quot; rel=&quot;noreferrer&quot;&gt;freely licensed&lt;/a&gt;) and there are few good implementations available.&lt;/p&gt;\n\n&lt;h3&gt;Storing passwords&lt;/h3&gt;\n\n&lt;p&gt;Don't ever store passwords as plaintext in the database. Not even if you don't care about the security of your own site. Assume that some of your users will reuse the password of their online bank account. So, store the hashed password, and throw away the original. And make sure the password doesn't show up in access logs or application logs. OWASP &lt;a href=&quot;https://www.owasp.org/index.php/Password_Storage_Cheat_Sheet#Impose_infeasible_verification_on_attacker&quot; rel=&quot;noreferrer&quot;&gt;recommends the use of Argon2&lt;/a&gt; as your first choice for new applications. If this is not available, PBKDF2 or scrypt should be used instead. And finally if none of the above are available, use bcrypt.&lt;/p&gt;\n\n&lt;p&gt;Hashes by themselves are also insecure. For instance, identical passwords mean identical hashes--this makes hash lookup tables an effective way of cracking lots of passwords at once. Instead, store the &lt;strong&gt;salted&lt;/strong&gt; hash. A salt is a string appended to the password prior to hashing - use a different (random) salt per user. The salt is a public value, so you can store them with the hash in the database. See &lt;a href=&quot;http://www.codeproject.com/Articles/704865/Salted-Password-Hashing-Doing-it-Right&quot; rel=&quot;noreferrer&quot;&gt;here&lt;/a&gt; for more on this.&lt;/p&gt;\n\n&lt;p&gt;This means that you can't send the user their forgotten passwords (because you only have the hash). Don't reset the user's password unless you have authenticated the user (users must prove that they are able to read emails sent to the stored (and validated) email address.)&lt;/p&gt;\n\n&lt;h3&gt;Security questions&lt;/h3&gt;\n\n&lt;p&gt;Security questions are insecure - avoid using them. Why? Anything a security question does, a password does better. Read &lt;strong&gt;&lt;em&gt;PART III: Using Secret Questions&lt;/em&gt;&lt;/strong&gt; in &lt;a href=&quot;http://srp.stanford.edu/license.txt&quot; rel=&quot;noreferrer&quot;&gt;@Jens Roland answer&lt;/a&gt; here in this wiki.&lt;/p&gt;\n\n&lt;h3&gt;Session cookies&lt;/h3&gt;\n\n&lt;p&gt;After the user logs in, the server sends the user a session cookie. The server can retrieve the username or id from the cookie, but nobody else can generate such a cookie (TODO explain mechanisms).&lt;/p&gt;\n\n&lt;p&gt;&lt;a href=&quot;http://en.wikipedia.org/wiki/Session_hijacking&quot; rel=&quot;noreferrer&quot;&gt;Cookies can be hijacked&lt;/a&gt;: they are only as secure as the rest of the client's machine and other communications. They can be read from disk, sniffed in network traffic, lifted by a cross-site scripting attack, phished from a poisoned DNS so the client sends their cookies to the wrong servers. Don't send persistent cookies. Cookies should expire at the end of the client session (browser close or leaving your domain).&lt;/p&gt;\n\n&lt;p&gt;If you want to autologin your users, you can set a persistent cookie, but it should be distinct from a full-session cookie. You can set an additional flag that the user has auto-logged in, and needs to login for real for sensitive operations. This is popular with shopping sites that want to provide you with a seamless, personalized shopping experience but still protect your financial details. For example, when you return to visit Amazon, they show you a page that looks like you're logged in, but when you go to place an order (or change your shipping address, credit card etc.), they ask you to confirm your password.&lt;/p&gt;\n\n&lt;p&gt;Financial web sites such as banks and credit cards, on the other hand, only have sensitive data and should not allow auto-login or a low-security mode.&lt;/p&gt;\n\n&lt;h3&gt;List of external resources&lt;/h3&gt;\n\n&lt;ul&gt;\n&lt;li&gt;&lt;a href=&quot;http://pdos.csail.mit.edu/papers/webauth:sec10.pdf&quot; rel=&quot;noreferrer&quot;&gt;Dos and Don'ts of Client Authentication on the Web (PDF)&lt;/a&gt;&lt;br&gt;\n21 page academic article with many great tips.  &lt;/li&gt;\n&lt;li&gt;&lt;a href=&quot;http://news.ycombinator.com/item?id=205572&quot; rel=&quot;noreferrer&quot;&gt;Ask YC: Best Practices for User Authentication&lt;/a&gt;&lt;br&gt;\nForum discussion on the subject  &lt;/li&gt;\n&lt;li&gt;&lt;a href=&quot;http://www.codinghorror.com/blog/archives/000953.html&quot; rel=&quot;noreferrer&quot;&gt;You're Probably Storing Passwords Incorrectly&lt;/a&gt;&lt;br&gt;\nIntroductory article about storing passwords&lt;/li&gt;\n&lt;li&gt;&lt;a href=&quot;http://news.ycombinator.com/item?id=55660&quot; rel=&quot;noreferrer&quot;&gt;Discussion: Coding Horror: You're Probably Storing Passwords Incorrectly&lt;/a&gt;&lt;br&gt;\nForum discussion about a Coding Horror article.&lt;/li&gt;\n&lt;li&gt;Never store passwords in a database!&lt;br&gt;\nAnother warning about storing passwords in the database.&lt;/li&gt;\n&lt;li&gt;&lt;a href=&quot;http://en.wikipedia.org/wiki/Password_cracking&quot; rel=&quot;noreferrer&quot;&gt;Password cracking&lt;/a&gt;&lt;br&gt;\nWikipedia article on weaknesses of several password hashing schemes.&lt;/li&gt;\n&lt;li&gt;&lt;a href=&quot;http://www.securityfocus.com/blogs/262&quot; rel=&quot;noreferrer&quot;&gt;Enough With The Rainbow Tables: What You Need To Know About Secure Password Schemes&lt;/a&gt;&lt;br&gt;\nDiscussion about rainbow tables and how to defend against them, and against other threads. Includes extensive discussion.&lt;/li&gt;\n&lt;/ul&gt;\n</td><td>NULL</td><td>5</td><td>2008-10-01 00:39:41.137</td><td>2008-08-02 20:40:45.533</td><td>0</td><td>2018-03-07 06:35:31.907</td><td>2018-03-07 06:35:31.907</td><td>hasen j</td><td>811240</td><td>136</td><td>549</td><td>2</td><td>390</td><td>NULL</td><td>NULL</td><td>0</td></tr><tr><td>629</td><td>0</td><td>0</td><td>&lt;p&gt;I found &lt;a href=&quot;http://raulparolari.com/Ruby2/lambda_Proc&quot; rel=&quot;nofollow noreferrer&quot;&gt;this page&lt;/a&gt; which shows what the difference between &lt;code&gt;Proc.new&lt;/code&gt; and &lt;code&gt;lambda&lt;/code&gt; are.  According to the page, the only difference is that a lambda is strict about the number of arguments it accepts, whereas &lt;code&gt;Proc.new&lt;/code&gt; converts missing arguments to &lt;code&gt;nil&lt;/code&gt;.  Here is an example IRB session illustrating the difference:&lt;/p&gt;\n\n&lt;pre&gt;irb(main):001:0&gt; l = lambda { |x, y| x + y }\n=&gt; #&amp;lt;Proc:0x00007fc605ec0748@(irb):1&amp;gt;\nirb(main):002:0&gt; p = Proc.new { |x, y| x + y }\n=&gt; #&amp;lt;Proc:0x00007fc605ea8698@(irb):2&amp;gt;\nirb(main):003:0&gt; l.call &quot;hello&quot;, &quot;world&quot;\n=&gt; &quot;helloworld&quot;\nirb(main):004:0&gt; p.call &quot;hello&quot;, &quot;world&quot;\n=&gt; &quot;helloworld&quot;\nirb(main):005:0&gt; l.call &quot;hello&quot;\nArgumentError: wrong number of arguments (1 for 2)\n    from (irb):1\n    from (irb):5:in `call'\n    from (irb):5\n    from :0\nirb(main):006:0&gt; p.call &quot;hello&quot;\nTypeError: can't convert nil into String\n    from (irb):2:in `+'\n    from (irb):2\n    from (irb):6:in `call'\n    from (irb):6\n    from :0&lt;/pre&gt;\n\n&lt;p&gt;The page also recommends using lambda unless you specifically want the error tolerant behavior.  I agree with this sentiment.  Using a lambda seems a tad more concise, and with such an insignificant difference, it seems the better choice in the average situation.&lt;/p&gt;\n\n&lt;p&gt;As for Ruby 1.9, sorry, I haven't looked into 1.9 yet, but I don't imagine they would change it all that much (don't take my word for it though, it seems you have heard of some changes, so I am probably wrong there).&lt;/p&gt;\n</td><td>NULL</td><td>2</td><td>NULL</td><td>2008-08-03 07:28:54.070</td><td>0</td><td>2016-10-21 18:36:33.597</td><td>2016-10-21 18:36:33.597</td><td>NULL</td><td>3257186</td><td>122</td><td>626</td><td>2</td><td>41</td><td>NULL</td><td>NULL</td><td>0</td></tr><tr><td>655</td><td>0</td><td>0</td><td>&lt;p&gt;With the &quot;Built in&quot; stuff, you can't, as using 1.0.* or 1.0.0.* will replace the revision and build numbers with a coded date/timestamp, which is usually also a good way. &lt;/p&gt;\n\n&lt;p&gt;For more info, see the &lt;a href=&quot;http://msdn2.microsoft.com/en-us/library/c405shex(vs.80).aspx&quot; rel=&quot;noreferrer&quot;&gt;Assembly Linker&lt;/a&gt; Documentation in the /v tag.&lt;/p&gt;\n\n&lt;p&gt;As for automatically incrementing numbers, use the AssemblyInfo Task:&lt;/p&gt;\n\n&lt;p&gt;&lt;a href=&quot;http://code.msdn.microsoft.com/AssemblyInfoTaskvers&quot; rel=&quot;noreferrer&quot;&gt;AssemblyInfo Task&lt;/a&gt;&lt;/p&gt;\n\n&lt;p&gt;This can be configured to automatically increment the build number.&lt;/p&gt;\n\n&lt;p&gt;There are 2 Gotchas:&lt;/p&gt;\n\n&lt;ol&gt;\n&lt;li&gt;Each of the 4 numbers in the Version string is limited to 65535. This is a Windows Limitation and unlikely to get fixed.\n\n&lt;ul&gt;\n&lt;li&gt;&lt;a href=&quot;http://blogs.msdn.com/msbuild/archive/2007/01/03/why-are-build-numbers-limited-to-65535.aspx&quot; rel=&quot;noreferrer&quot;&gt;Why are build numbers limited to 65535?&lt;/a&gt;&lt;/li&gt;\n&lt;/ul&gt;&lt;/li&gt;\n&lt;li&gt;Using with with Subversion requires a small change:\n\n&lt;ul&gt;\n&lt;li&gt;&lt;a href=&quot;http://www.andrewconnell.com/blog/archive/2006/08/29/4078.aspx&quot; rel=&quot;noreferrer&quot;&gt;Using MSBuild to generate assembly version info at build time (including SubVersion fix)&lt;/a&gt;&lt;/li&gt;\n&lt;/ul&gt;&lt;/li&gt;\n&lt;/ol&gt;\n\n&lt;p&gt;Retrieving the Version number is then quite easy:&lt;/p&gt;\n\n&lt;pre&gt;&lt;code&gt;Version v = Assembly.GetExecutingAssembly().GetName().Version;\nstring About = string.Format(CultureInfo.InvariantCulture, @&quot;YourApp Version {0}.{1}.{2} (r{3})&quot;, v.Major, v.Minor, v.Build, v.Revision);\n&lt;/code&gt;&lt;/pre&gt;\n\n&lt;hr&gt;\n\n&lt;p&gt;And, to clarify: In .net or at least in C#, the build is actually the THIRD number, not the fourth one as some people (for example Delphi Developers who are used to Major.Minor.Release.Build) might expect.&lt;/p&gt;\n\n&lt;p&gt;In .net, it's Major.Minor.Build.Revision.&lt;/p&gt;\n</td><td>NULL</td><td>6</td><td>NULL</td><td>2008-08-03 11:41:38.490</td><td>0</td><td>2013-01-28 04:10:16.497</td><td>2013-01-28 04:10:16.497</td><td>user1873471</td><td>0</td><td>91</td><td>650</td><td>2</td><td>87</td><td>NULL</td><td>NULL</td><td>0</td></tr></table>"
                    }
                }
            ],
            "execution_count": 5
        },
        {
            "cell_type": "markdown",
            "source": "There are references to other people, that looks like someone's personal blog url there as well. This is identifiable data. It might be low in risk and confidentiality, but that's an assessment for later.",
            "metadata": {}
        }
    ]
}